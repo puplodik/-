{
 "cells": [
  {
   "cell_type": "markdown",
   "id": "049e3e90",
   "metadata": {},
   "source": [
    "# Практическая работа 4 Журавлев А.Д. ББМО-02-23"
   ]
  },
  {
   "cell_type": "markdown",
   "id": "8b2ce974",
   "metadata": {},
   "source": [
    "# Загрузка датасета"
   ]
  },
  {
   "cell_type": "code",
   "execution_count": 1,
   "id": "46000220",
   "metadata": {},
   "outputs": [
    {
     "name": "stdout",
     "output_type": "stream",
     "text": [
      "     owner  project                                      sha                                    sha-p  year language        cve_id  cwe_id  score severity\n",
      "   pfsense  pfsense 002bc4ab3268e6e5cb3a01ce73a4c1624d09050a d6a0379d291f5e98500776618559343f40254e40  2010      php           NaN  CWE-77    NaN      NaN\n",
      " nextcloud   server 0074062b5329c3d43679909fddce2d70608a4475 5c6a7172cafc395d38c58d1b5afd6b36efb33ad5  2012      php           NaN  CWE-79    NaN      NaN\n",
      " nextcloud   server 0241ddc759f7e2d2695c4626df5d2ac27b8b1d90 c2e2c59ca7aa873bd07de04ea701a8b351383aec  2014      php           NaN CWE-384    NaN      NaN\n",
      "  mantisbt mantisbt 00b4c17088fa56594d85fe46b6c6057bb3421102 b72fdaeb7cb8786401faab520d43092c8bdb44aa  2014      php CVE-2014-1608  CWE-89    7.5     HIGH\n",
      "splitbrain dokuwiki 02b0b681935185a1c4d2d64e76fe499f3d438d12 10ffc9dd6a89562ef502baa21f968cf269fe21b0  2006      php           NaN  CWE-79    NaN      NaN\n"
     ]
    }
   ],
   "source": [
    "import pandas as pd\n",
    "\n",
    "# Загрузка данных из датасета:\n",
    "url = \"https://raw.githubusercontent.com/TQRG/security-patches-dataset/main/data/secbench/github-secbench-patches.csv\"\n",
    "data = pd.read_csv(url)\n",
    "\n",
    "# Просмотр первых строк полученных данных:\n",
    "print(data.head().to_string(index=False))"
   ]
  },
  {
   "cell_type": "markdown",
   "id": "b6f992f4",
   "metadata": {},
   "source": [
    "# Просмотр статистики по признакам и удаление строк с нулевым значением"
   ]
  },
  {
   "cell_type": "code",
   "execution_count": 2,
   "id": "e80c9aaf",
   "metadata": {},
   "outputs": [
    {
     "name": "stdout",
     "output_type": "stream",
     "text": [
      "Статистика по признаку 'year':\n",
      "count     676.000000\n",
      "mean     2012.168639\n",
      "std         3.438944\n",
      "min      1999.000000\n",
      "25%      2010.000000\n",
      "50%      2013.000000\n",
      "75%      2015.000000\n",
      "max      2017.000000\n",
      "Name: year, dtype: float64\n",
      "\n",
      "Статистика по признаку 'score':\n",
      "count    183.000000\n",
      "mean       5.338798\n",
      "std        1.557708\n",
      "min        1.200000\n",
      "25%        4.300000\n",
      "50%        5.000000\n",
      "75%        6.800000\n",
      "max       10.000000\n",
      "Name: score, dtype: float64\n",
      "\n",
      "Статистика по признаку 'severity':\n",
      "count        188\n",
      "unique         8\n",
      "top       MEDIUM\n",
      "freq         129\n",
      "Name: severity, dtype: object\n"
     ]
    },
    {
     "data": {
      "image/png": "[encoded data removed]",
      "text/plain": [
       "<Figure size 1080x360 with 3 Axes>"
      ]
     },
     "metadata": {
      "needs_background": "light"
     },
     "output_type": "display_data"
    }
   ],
   "source": [
    "# Отображение статистики по признаку \"year\":\n",
    "print(\"Статистика по признаку 'year':\")\n",
    "print(data['year'].describe())\n",
    "\n",
    "# Просмотр статистики по признаку \"score\":\n",
    "print(\"\\nСтатистика по признаку 'score':\")\n",
    "print(data['score'].describe())\n",
    "\n",
    "# Просмотр статистики по признаку \"severity\":\n",
    "print(\"\\nСтатистика по признаку 'severity':\")\n",
    "print(data['severity'].describe())\n",
    "\n",
    "import matplotlib.pyplot as plt\n",
    "\n",
    "# Удаление строк с нулевыми значениями:\n",
    "data_cleaned = data.dropna(subset=['year', 'score', 'severity'])\n",
    "\n",
    "# Построение графиков:\n",
    "plt.figure(figsize=(15, 5))\n",
    "\n",
    "# График для распределения оценки уязвимости:\n",
    "plt.subplot(1, 3, 2)\n",
    "plt.hist(data_cleaned['score'], bins=20, color= 'orange', edgecolor='black', alpha=0.7)\n",
    "plt.title('Распределение по оценке уязвимостей')\n",
    "plt.xlabel('Оценка уязвимости')\n",
    "plt.ylabel('Частота')\n",
    "\n",
    "# График для года обнаружения уязвимости:\n",
    "plt.subplot(1, 3, 1)\n",
    "plt.hist(data_cleaned['year'], bins=range(int(data_cleaned['year'].min()), int(data_cleaned['year'].max()) + 1), color= 'orange', edgecolor='black', alpha=0.7)\n",
    "plt.title('Распределение по годам обнаружения уязвимостей')\n",
    "plt.xlabel('Год')\n",
    "plt.ylabel('Частота')\n",
    "\n",
    "# График для степени серьёзности уязвимости:\n",
    "plt.subplot(1, 3, 3)\n",
    "severity_counts = data_cleaned['severity'].value_counts()\n",
    "severity_counts.plot(kind='bar', color='orange', edgecolor='black')\n",
    "plt.title('Распределение по степени серьёзности уязвимостей')\n",
    "plt.xlabel('Степень серьёзности')\n",
    "plt.ylabel('Частота')\n",
    "\n",
    "plt.tight_layout()\n",
    "plt.show()"
   ]
  },
  {
   "cell_type": "markdown",
   "id": "70d52010",
   "metadata": {},
   "source": [
    "# Выбор признаков для выбора модели МО с наилучшей оценкой точности по f1-мере"
   ]
  },
  {
   "cell_type": "code",
   "execution_count": 3,
   "id": "f72f6135",
   "metadata": {},
   "outputs": [
    {
     "name": "stdout",
     "output_type": "stream",
     "text": [
      "Logistic Regression: F1-score = 0.9379021879021878\n",
      "Support Vector Machine: F1-score = 0.6157094594594594\n",
      "Random Forest: F1-score = 0.9719901719901719\n"
     ]
    }
   ],
   "source": [
    "from sklearn.model_selection import train_test_split, cross_val_score\n",
    "from sklearn.linear_model import LogisticRegression\n",
    "from sklearn.svm import SVC\n",
    "from sklearn.ensemble import RandomForestClassifier\n",
    "from sklearn.metrics import f1_score\n",
    "\n",
    "# Выбор признаков и целевой переменной:\n",
    "X = data_cleaned[['year', 'score']]\n",
    "y = data_cleaned['severity']\n",
    "\n",
    "# Разделение данных на обучающую и тестовую выборки:\n",
    "X_train, X_test, y_train, y_test = train_test_split(X, y, test_size=0.2, random_state=42)\n",
    "\n",
    "# Инициализация моделей:\n",
    "log_reg = LogisticRegression(random_state=42)\n",
    "svm = SVC(random_state=42)\n",
    "rf_classifier = RandomForestClassifier(random_state=42)\n",
    "\n",
    "# Список моделей:\n",
    "models = [('Logistic Regression', log_reg), ('Support Vector Machine', svm), ('Random Forest', rf_classifier)]\n",
    "\n",
    "# Обучение и оценка производительности моделей:\n",
    "for name, model in models:\n",
    "    # Обучение модели:\n",
    "    model.fit(X_train, y_train)\n",
    "\n",
    "    # Предсказание на тестовой выборке:\n",
    "    y_pred = model.predict(X_test)\n",
    "\n",
    "    # Оценка производительности с использованием F1-меры:\n",
    "    f1 = f1_score(y_test, y_pred, average='weighted')\n",
    "    print(f'{name}: F1-score = {f1}')"
   ]
  },
  {
   "cell_type": "markdown",
   "id": "b980e3aa",
   "metadata": {},
   "source": [
    "# Модель случайного леса имеет самый высокий показатель f1-меры, так что ее использовать предпочтительней"
   ]
  }
 ],
 "metadata": {
  "kernelspec": {
   "display_name": "Python 3 (ipykernel)",
   "language": "python",
   "name": "python3"
  },
  "language_info": {
   "codemirror_mode": {
    "name": "ipython",
    "version": 3
   },
   "file_extension": ".py",
   "mimetype": "text/x-python",
   "name": "python",
   "nbconvert_exporter": "python",
   "pygments_lexer": "ipython3",
   "version": "3.9.12"
  }
 },
 "nbformat": 4,
 "nbformat_minor": 5
}
