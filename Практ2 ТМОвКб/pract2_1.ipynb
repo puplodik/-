{
 "cells": [
  {
   "cell_type": "markdown",
   "id": "7d30616b",
   "metadata": {},
   "source": [
    "# Практическая работа 2 Журавлев Александр Дмитриевич"
   ]
  },
  {
   "cell_type": "markdown",
   "id": "85da8c80",
   "metadata": {},
   "source": [
    "# 1) Наивный Байесовский классификатор"
   ]
  },
  {
   "cell_type": "markdown",
   "id": "8bd6252c",
   "metadata": {},
   "source": [
    "# Задание 1 Решение задачи классификации на основе метода наивного Байесовского классификатора (Naive Bayes) в контексте задачи обнаружения спама или мошеннических действий. "
   ]
  },
  {
   "cell_type": "markdown",
   "id": "0aadc541",
   "metadata": {},
   "source": [
    "# Импортировать необходимые библиотеки: для математических вычислений (NumPy), а также для обработки и анализа данных (Pandas)"
   ]
  },
  {
   "cell_type": "code",
   "execution_count": 1,
   "id": "ff78ce80",
   "metadata": {},
   "outputs": [],
   "source": [
    "import numpy as np\n",
    "import pandas as pd"
   ]
  },
  {
   "cell_type": "markdown",
   "id": "4e949182",
   "metadata": {},
   "source": [
    "# Загрузить исходный набор данных из файла ‘mashrooms.csv’"
   ]
  },
  {
   "cell_type": "code",
   "execution_count": 2,
   "id": "f0bffc57",
   "metadata": {},
   "outputs": [],
   "source": [
    "df = pd.read_csv('mushrooms.csv')"
   ]
  },
  {
   "cell_type": "markdown",
   "id": "f9d30d7c",
   "metadata": {},
   "source": [
    "# Импортировать библиотеки для преобразования категориальных признаков в числовой формат"
   ]
  },
  {
   "cell_type": "code",
   "execution_count": 3,
   "id": "1a12c2e3",
   "metadata": {},
   "outputs": [],
   "source": [
    "# convert in numeric data\n",
    "from sklearn.preprocessing import LabelEncoder\n",
    "from sklearn.model_selection import train_test_split"
   ]
  },
  {
   "cell_type": "markdown",
   "id": "ab6e538b",
   "metadata": {},
   "source": [
    "# Выполнить преобразование категориальных признаков в числовой формат с использованием LabelEncoder"
   ]
  },
  {
   "cell_type": "code",
   "execution_count": 4,
   "id": "f1498afe",
   "metadata": {},
   "outputs": [],
   "source": [
    "le = LabelEncoder()\n",
    "ds = df.apply(func=le.fit_transform)\n",
    "# this will be applied to each column"
   ]
  },
  {
   "cell_type": "markdown",
   "id": "afa2740e",
   "metadata": {},
   "source": [
    "# Выполнить преобразование DataFrame ds в массив NumPy, где каждая строка представляет собой один объект данных, а каждый столбец – один из признаков. Разделить данные на обучающий и тестовый наборы с использованием функции train_test_split из библиотеки scikit-learn"
   ]
  },
  {
   "cell_type": "code",
   "execution_count": 5,
   "id": "47ca756c",
   "metadata": {},
   "outputs": [],
   "source": [
    "data = ds.values\n",
    "X = data[:, 1:]\n",
    "y = data[:, 0]\n",
    "X.shape, y.shape\n",
    "X_train, X_test, y_train, y_test = train_test_split(X, y, test_size=0.33, random_state=42)"
   ]
  },
  {
   "cell_type": "markdown",
   "id": "cc4a12a9",
   "metadata": {},
   "source": [
    "# Определить пользовательский класс CustomNB, который представляет собой наивный Байесовский классификатор для решения задачи классификации на основе категориальных признаков данных"
   ]
  },
  {
   "cell_type": "markdown",
   "id": "9b7e3177",
   "metadata": {},
   "source": [
    "# В классе CustomNB определить два метода, которые используются для оценки вероятностей. Метод prior_prob(self, label) рассчитывает априорную вероятность для заданного класса label. Метод conditional_prob(self, feature_col, feature_val, label) рассчитывает условную вероятность для конкретного признака (признака с индексом feature_col) и его значения feature_val в контексте класса label"
   ]
  },
  {
   "cell_type": "markdown",
   "id": "3587a5da",
   "metadata": {},
   "source": [
    "# Определить метод predict_point в классе CustomNB, который выполняет предсказание класса для одного набора данных X_test на основе наивного Байесовского классификатора"
   ]
  },
  {
   "cell_type": "markdown",
   "id": "6e0b8db7",
   "metadata": {},
   "source": [
    "# Определить два метода в классе CustomNB, которые связаны с оценкой производительности классификации наивного Байесовского классификатора. Метод predict(self, X_test) предназначен для предсказания классов для набора объектов данных X_test. Метод score(self, X_test, y_test) используется для оценки производительности классификации на тестовом наборе данных X_test с известными фактическими классами y_test"
   ]
  },
  {
   "cell_type": "code",
   "execution_count": 11,
   "id": "fceee1c7",
   "metadata": {},
   "outputs": [],
   "source": [
    "class CustomNB:\n",
    "    def fit(self, X, y):\n",
    "        self.X_train = X\n",
    "        self.y_train = y\n",
    "\n",
    "    # label = which class you want this prob for\n",
    "    def prior_prob(self, label):\n",
    "        total = self.y_train.shape[0]\n",
    "        class_examples = np.sum(self.y_train == label)\n",
    "        return class_examples / float(total)  # python 2\n",
    "\n",
    "    # P(Xi=red|y=label) - ith feature (feature col = i) for a single example\n",
    "    def conditional_prob(self, feature_col, feature_val, label):\n",
    "        # out of all the examples, what mushrooms have feature as feature_val in the feature_col that belongs to that class label\n",
    "        X_filtered = self.X_train[self.y_train==label] # all the examples in class label\n",
    "        numerator = np.sum(X_filtered[:, feature_col] == feature_val)\n",
    "        denominator = len(X_filtered)\n",
    "        return numerator / denominator\n",
    "\n",
    "    # we are going to do this for all the 22 features that we have for each example\n",
    "    def predict_point(self, X_test):\n",
    "        # X_test is a single example with n features\n",
    "        classes = np.unique(self.y_train) # By default from 0\n",
    "        n_features = self.X_train.shape[1]\n",
    "        post_pro = []\n",
    "        # post prob for each class\n",
    "        for label in classes:\n",
    "            # post_prob = prior * likelihood\n",
    "            likehood = 1.0\n",
    "            for feature in range(n_features):\n",
    "                cond = self.conditional_prob(feature, X_test[feature], label)\n",
    "                likehood *= cond\n",
    "            prior = self.prior_prob(label)\n",
    "            post = prior * likehood\n",
    "            post_pro.append(post)\n",
    "\n",
    "        # ans = max value from all labels\n",
    "        return np.argmax(post_pro) # return the index of the largest value in array\n",
    "\n",
    "    def predict(self, X_test):\n",
    "        result = []\n",
    "        for point in X_test:\n",
    "            result.append(self.predict_point(point))\n",
    "        return np.array(result)\n",
    "\n",
    "    def score(self, X_test, y_test):\n",
    "        return (self.predict(X_test) == y_test).mean()"
   ]
  },
  {
   "cell_type": "markdown",
   "id": "6f969ac6",
   "metadata": {},
   "source": [
    "# Осуществить создание экземпляра пользовательского класса CustomNB, который представляет собой наивный Байесовский классификатор. Вызвать метод fit для обучения классификатора model на обучающем наборе данных X_train и соответствующих метках классов y_train. Вызвать метод predict для предсказания классов для объектов из тестового набора данных X_test. Вызвать метод score, который оценивает производительность классификатора на всем тестовом наборе данных"
   ]
  },
  {
   "cell_type": "code",
   "execution_count": 12,
   "id": "b7ad12d9",
   "metadata": {},
   "outputs": [
    {
     "data": {
      "text/plain": [
       "0.9973890339425587"
      ]
     },
     "execution_count": 12,
     "metadata": {},
     "output_type": "execute_result"
    }
   ],
   "source": [
    "model = CustomNB()\n",
    "model.fit(X_train, y_train)\n",
    "model.predict(X_test[:10])\n",
    "y_test[:10]\n",
    "model.score(X_test, y_test)"
   ]
  },
  {
   "cell_type": "markdown",
   "id": "e5ebab63",
   "metadata": {},
   "source": [
    "# Задание 2 Решение задачи классификации на основе метода наивного Байесовского классификатора (Naive Bayes) в контексте задачи обнаружения спама или не спама"
   ]
  },
  {
   "cell_type": "code",
   "execution_count": 13,
   "id": "2a00aca2",
   "metadata": {},
   "outputs": [
    {
     "name": "stderr",
     "output_type": "stream",
     "text": [
      "[nltk_data] Downloading package stopwords to\n",
      "[nltk_data]     C:\\Users\\Aleks\\AppData\\Roaming\\nltk_data...\n",
      "[nltk_data]   Unzipping corpora\\stopwords.zip.\n"
     ]
    }
   ],
   "source": [
    "import numpy as np\n",
    "import pandas as pd\n",
    "import matplotlib as mpl\n",
    "import matplotlib.pyplot as plt\n",
    "import seaborn as sns\n",
    "import string\n",
    "from sklearn.feature_extraction.text import TfidfVectorizer\n",
    "from sklearn.model_selection import train_test_split\n",
    "from sklearn.feature_extraction.text import CountVectorizer\n",
    "from sklearn import preprocessing\n",
    "from nltk.stem import SnowballStemmer\n",
    "from nltk.tokenize import RegexpTokenizer\n",
    "from nltk.corpus import stopwords\n",
    "from nltk.stem.porter import *\n",
    "import nltk\n",
    "nltk.download('stopwords')\n",
    "%matplotlib inline"
   ]
  },
  {
   "cell_type": "markdown",
   "id": "b503c60c",
   "metadata": {},
   "source": [
    "# Загрузить исходный набор данных из файла ‘spam.csv’. Выполнить преобразование категориальных признаков в числовой формат с использованием LabelEncoder. Преобразовать данные из объекта DataFrame df в массив NumPy. Убедиться, что данные были правильно загружены и сформированы при помощи метода shape()"
   ]
  },
  {
   "cell_type": "code",
   "execution_count": 14,
   "id": "b5ccef96",
   "metadata": {},
   "outputs": [
    {
     "data": {
      "text/plain": [
       "((5572,), (5572,))"
      ]
     },
     "execution_count": 14,
     "metadata": {},
     "output_type": "execute_result"
    }
   ],
   "source": [
    "df = pd.read_csv('spam.csv', encoding='ISO-8859-1')\n",
    "le = preprocessing.LabelEncoder()\n",
    "\n",
    "data = df.to_numpy()\n",
    "X = data[:, 1]\n",
    "y = data[:, 0]\n",
    "X.shape, y.shape"
   ]
  },
  {
   "cell_type": "markdown",
   "id": "870be27c",
   "metadata": {},
   "source": [
    "# Создать объект tokenizer типа RegexpTokenizer из библиотеки NLTK, который будет использовать регулярное выражение '\\w+' для разделения текста на слова (токены). Создать множество (set) sw, которое содержит стопслова на английском языке. Создать объект ps типа PorterStemmer из NLTK. Портер-стеммер – это алгоритм стемминга, который используется для приведения слов к их основной (стем) форме путем удаления суффиксов и окончаний"
   ]
  },
  {
   "cell_type": "code",
   "execution_count": 15,
   "id": "910db31a",
   "metadata": {},
   "outputs": [],
   "source": [
    "tokenizer = RegexpTokenizer('\\w+')\n",
    "sw = set(stopwords.words('english'))\n",
    "ps = PorterStemmer()"
   ]
  },
  {
   "cell_type": "markdown",
   "id": "923b082a",
   "metadata": {},
   "source": [
    "# Определить функцию getStem(review), которая выполняет нормализацию текста, включая приведение к нижнему регистру, удаление стопслов и применение стемминга, что помогает в предварительной обработке текстовых данных перед их анализом или классификацией. Определить функцию getDoc(document), которая принимает список текстовых документов, применяет к каждому из них процедуру очистки и нормализации с использованием функции getStem, и возвращает список очищенных документов, готовых для дальнейшей обработки или анализа"
   ]
  },
  {
   "cell_type": "code",
   "execution_count": 16,
   "id": "8df405e6",
   "metadata": {},
   "outputs": [],
   "source": [
    "def getStem(review):\n",
    "    review = review.lower()\n",
    "    tokens = tokenizer.tokenize(review) # breaking into small words\n",
    "    removed_stopwords = [w for w in tokens if w not in sw]\n",
    "    stemmed_words = [ps.stem(token) for token in removed_stopwords]\n",
    "    clean_review = ' '.join(stemmed_words)\n",
    "    return clean_review\n",
    "def getDoc(document):\n",
    "    d = []\n",
    "    for doc in document:\n",
    "        d.append(getStem(doc))\n",
    "    return d"
   ]
  },
  {
   "cell_type": "markdown",
   "id": "7c0b4430",
   "metadata": {},
   "source": [
    "# Создать список stemmed_doc, который представляет собой результат применения функции getDoc к каждому элементу вектора X. Создать объект CountVectorizer из библиотеки scikit-learn. CountVectorizer используется для преобразования текстовых данных в числовой формат, создавая матрицу счетчиков, где каждый элемент представляет собой количество вхождений слова в документе. Применить CountVectorizer к списку stemmed_doc, чтобы создать матрицу счетчиков. Преобразует разреженную матрицу vc в плотную (dense) матрицу X. Разделить данные на обучающий (X_train, y_train) и тестовый (X_test, y_test) наборы. Обучающий набор будет использоваться для обучения модели, а тестовый набор – для оценки ее производительности"
   ]
  },
  {
   "cell_type": "code",
   "execution_count": 17,
   "id": "7b1d7297",
   "metadata": {},
   "outputs": [],
   "source": [
    "stemmed_doc = getDoc(X)\n",
    "stemmed_doc[:10]\n",
    "cv = CountVectorizer()\n",
    "# create my vocab\n",
    "vc = cv.fit_transform(stemmed_doc)\n",
    "X = vc.todense()\n",
    "X_train, X_test, y_train, y_test = train_test_split(X, y, test_size=0.33, random_state=42)"
   ]
  },
  {
   "cell_type": "markdown",
   "id": "08819dbc",
   "metadata": {},
   "source": [
    "# Импортировать классификатор наивного Байеса MultinomialNB из библиотеки scikit-learn, который используется для классификации текстовых данных. Создать экземпляр модели классификатора наивного Байеса с использованием MultinomialNB. Обучить модель, передавая в нее обучающие данные X_train (признаки) и y_train (метки классов). Вычислить точность модели на тестовых данных, передавая в нее тестовые данные X_test и соответствующие метки y_test. Задать список нескольких текстовых сообщений, которые, вероятно, представляют собой новые тексты"
   ]
  },
  {
   "cell_type": "code",
   "execution_count": 18,
   "id": "19304e58",
   "metadata": {},
   "outputs": [],
   "source": [
    "from sklearn.naive_bayes import MultinomialNB\n",
    "\n",
    "model = MultinomialNB()\n",
    "model.fit(np.asarray(X_train), y_train)\n",
    "model.score(np.asarray(X_test), y_test)\n",
    "messages = [\n",
    "    \"\"\"\n",
    "    Hi Kunal,\n",
    "We invite you to participate in MishMash - India’s largest online diversity hackathon.\n",
    "The hackathon is a Skillenza initiative and sponsored by Microsoft, Unity, Unilever, Gojek, Rocketium and Jharkhand Government.\n",
    "We have a special theme for you - Deep Tech/Machine Learning - sponsored by Unilever, which will be perfect for you.\n",
    "    \"\"\",\n",
    "    \"\"\"Join us today at 12:00 PM ET / 16:00 UTC for a Red Hat DevNation tech talk on AWS Lambda and serverless Java with Bill Burke.\n",
    "Have you ever tried Java on AWS Lambda but found that the cold-start latency and memory usage were far too high?\n",
    "In this session, we will show how we optimized Java for serverless applications by leveraging GraalVM with Quarkus to\n",
    "provide both supersonic startup speed and a subatomic memory footprint.\"\"\",\n",
    "\n",
    "    \"\"\"We really appreciate your interest and wanted to let you know that we have received your application.\n",
    "There is strong competition for jobs at Intel, and we receive many applications. As a result, it may take some time to get back to you.\n",
    "Whether or not this position ends up being a fit, we will keep your information per data retention policies,\n",
    "so we can contact you for other positions that align to your experience and skill set.\n",
    "\"\"\"\n",
    "]"
   ]
  },
  {
   "cell_type": "markdown",
   "id": "82e97320",
   "metadata": {},
   "source": [
    "# Определить функцию prepare, которая принимает список текстовых сообщений messages в качестве входных данных и позволяет преобразовать новые текстовые сообщения в числовой вид, который соответствует формату, используемому при обучении модели. Вызвать функцию prepare с входными сообщениями messages. Использовать обученную модель model для выполнения предсказаний на численно представленных сообщениях messages\n"
   ]
  },
  {
   "cell_type": "code",
   "execution_count": 19,
   "id": "80fe5a1a",
   "metadata": {},
   "outputs": [
    {
     "data": {
      "text/plain": [
       "array(['ham', 'spam', 'ham'], dtype='<U4')"
      ]
     },
     "execution_count": 19,
     "metadata": {},
     "output_type": "execute_result"
    }
   ],
   "source": [
    "def prepare(messages):\n",
    "    d = getDoc(messages)\n",
    "    # dont do fit_transform!! it will create new vocab.\n",
    "    return cv.transform(d)\n",
    "messages = prepare(messages)\n",
    "y_pred = model.predict(messages)\n",
    "y_pred"
   ]
  },
  {
   "cell_type": "markdown",
   "id": "165d42c7",
   "metadata": {},
   "source": [
    "# 2) Определение спама в почте при помощи наивного Байесовского классификатора"
   ]
  },
  {
   "cell_type": "markdown",
   "id": "3f372c2b",
   "metadata": {},
   "source": [
    "# Задание 1: Решение задачи классификации на основе метода наивного Байесовского классификатора (Naive Bayes) в контексте классификации текстовых сообщений на два класса: спам (spam) и не спам (ham). "
   ]
  },
  {
   "cell_type": "markdown",
   "id": "021182ec",
   "metadata": {},
   "source": [
    "# Произвести импорт необходимых библиотек и загрузку исходных данных из файла emails.csv. Проверить, есть ли пропущенные значения в оставшихся столбцах"
   ]
  },
  {
   "cell_type": "code",
   "execution_count": 21,
   "id": "bf50e7b1",
   "metadata": {},
   "outputs": [
    {
     "data": {
      "text/plain": [
       "text    0\n",
       "spam    0\n",
       "dtype: int64"
      ]
     },
     "execution_count": 21,
     "metadata": {},
     "output_type": "execute_result"
    }
   ],
   "source": [
    "import numpy as np\n",
    "import pandas as pd\n",
    "import matplotlib.pyplot as plt\n",
    "df = pd.read_csv(r'emails.csv')\n",
    "del df['Unnamed: 2']\n",
    "del df['Unnamed: 3']\n",
    "df.head()\n",
    "df.isnull().sum()"
   ]
  },
  {
   "cell_type": "markdown",
   "id": "988ffd2b",
   "metadata": {},
   "source": [
    "# Осуществить разделение зависимого и независимого значения"
   ]
  },
  {
   "cell_type": "code",
   "execution_count": 22,
   "id": "38f97d68",
   "metadata": {},
   "outputs": [],
   "source": [
    "x = df.text.values\n",
    "y = df.spam.values"
   ]
  },
  {
   "cell_type": "markdown",
   "id": "0b22aecd",
   "metadata": {},
   "source": [
    "# Разделить обучающую и тестовую матрицы"
   ]
  },
  {
   "cell_type": "code",
   "execution_count": 23,
   "id": "2ccfea00",
   "metadata": {},
   "outputs": [],
   "source": [
    "from sklearn.model_selection import train_test_split\n",
    "xtrain,xtest,ytrain,ytest = train_test_split(x,y,test_size=0.3)"
   ]
  },
  {
   "cell_type": "markdown",
   "id": "1e4d41a8",
   "metadata": {},
   "source": [
    "# Выполнить шаги для подготовки текстовых данных к обучению модели машинного обучения"
   ]
  },
  {
   "cell_type": "code",
   "execution_count": 24,
   "id": "f76541e9",
   "metadata": {},
   "outputs": [
    {
     "data": {
      "text/plain": [
       "array([[0, 1, 0, ..., 0, 0, 0],\n",
       "       [0, 0, 0, ..., 0, 0, 0],\n",
       "       [0, 0, 0, ..., 0, 0, 0],\n",
       "       ...,\n",
       "       [0, 0, 0, ..., 0, 0, 0],\n",
       "       [0, 0, 0, ..., 0, 0, 0],\n",
       "       [0, 0, 0, ..., 0, 0, 0]], dtype=int64)"
      ]
     },
     "execution_count": 24,
     "metadata": {},
     "output_type": "execute_result"
    }
   ],
   "source": [
    "from sklearn.feature_extraction.text import CountVectorizer\n",
    "cv = CountVectorizer()\n",
    "x_train = cv.fit_transform(xtrain)\n",
    "x_train.toarray()"
   ]
  },
  {
   "cell_type": "markdown",
   "id": "a3829ee4",
   "metadata": {},
   "source": [
    "# Cоздать, обучить и оценить модель классификации текста наивного Байеса на обучающих данных, а затем применить ту же предварительную обработку данных к тестовому набору для последующей оценки производительности модели на тестовых данных"
   ]
  },
  {
   "cell_type": "code",
   "execution_count": 25,
   "id": "214e547d",
   "metadata": {},
   "outputs": [
    {
     "data": {
      "text/plain": [
       "0.9902718882514343"
      ]
     },
     "execution_count": 25,
     "metadata": {},
     "output_type": "execute_result"
    }
   ],
   "source": [
    "from sklearn.naive_bayes import MultinomialNB\n",
    "model = MultinomialNB()\n",
    "model.fit(x_train,ytrain)\n",
    "x_test = cv.fit_transform(xtest)\n",
    "x_test.toarray()\n",
    "model.score(x_train,ytrain)"
   ]
  },
  {
   "cell_type": "markdown",
   "id": "55d1bf2a",
   "metadata": {},
   "source": [
    "# Задание 2: Решение задачи классификации на основе метода наивного Байесовского классификатора (Naive Bayes) в контексте классификации текстовых сообщений на два класса: спам (spam) и не спам (ham) при помощи цепочки функций. "
   ]
  },
  {
   "cell_type": "markdown",
   "id": "8f9562d0",
   "metadata": {},
   "source": [
    "# Произвести импорт необходимых библиотек и загрузку исходных данных из файла emails.csv. Проверить, есть ли пропущенные значения в оставшихся столбцах"
   ]
  },
  {
   "cell_type": "code",
   "execution_count": 26,
   "id": "c56470c2",
   "metadata": {},
   "outputs": [
    {
     "name": "stdout",
     "output_type": "stream",
     "text": [
      "<class 'pandas.core.frame.DataFrame'>\n",
      "RangeIndex: 5572 entries, 0 to 5571\n",
      "Data columns (total 2 columns):\n",
      " #   Column    Non-Null Count  Dtype \n",
      "---  ------    --------------  ----- \n",
      " 0   Category  5572 non-null   object\n",
      " 1   Message   5572 non-null   object\n",
      "dtypes: object(2)\n",
      "memory usage: 87.2+ KB\n"
     ]
    },
    {
     "data": {
      "text/plain": [
       "Category    0\n",
       "Message     0\n",
       "dtype: int64"
      ]
     },
     "execution_count": 26,
     "metadata": {},
     "output_type": "execute_result"
    }
   ],
   "source": [
    "import numpy as np\n",
    "import pandas as pd # data processing, CSV file I/O (e.g. pd.read_csv)\n",
    "import os\n",
    "data=pd.read_csv('spam.csv')\n",
    "data\n",
    "data.columns\n",
    "data.info()\n",
    "data.isna().sum()"
   ]
  },
  {
   "cell_type": "markdown",
   "id": "6a7ec9e2",
   "metadata": {},
   "source": [
    "# Подготовить данные для задачи классификации текстовых сообщений. Создать числовые метки классов, разделить данные на обучающий и тестовый наборы и импортировать инструмент для векторизации текста с использованием CountVectorizer"
   ]
  },
  {
   "cell_type": "code",
   "execution_count": 27,
   "id": "39bd2ef5",
   "metadata": {},
   "outputs": [],
   "source": [
    "data['Spam']=data['Category'].apply(lambda x:1 if x=='spam' else 0)\n",
    "data.head(5)\n",
    "from sklearn.model_selection import train_test_split\n",
    "X_train,X_test,y_train,y_test=train_test_split(data.Message,data.Spam,test_size=0.25)\n",
    "#CounterVectorizer Convert the text into matrics\n",
    "from sklearn.feature_extraction.text import CountVectorizer"
   ]
  },
  {
   "cell_type": "markdown",
   "id": "ba7c011e",
   "metadata": {},
   "source": [
    "# Использовать пайплайн для объединения шагов векторизации текста с использованием CountVectorizer и классификации с использованием модели MultinomialNB"
   ]
  },
  {
   "cell_type": "code",
   "execution_count": 28,
   "id": "19f083fc",
   "metadata": {},
   "outputs": [],
   "source": [
    "from sklearn.naive_bayes import MultinomialNB\n",
    "from sklearn.pipeline import Pipeline\n",
    "clf=Pipeline([\n",
    "    ('vectorizer',CountVectorizer()),\n",
    "    ('nb',MultinomialNB())\n",
    "])"
   ]
  },
  {
   "cell_type": "markdown",
   "id": "0516b1fb",
   "metadata": {},
   "source": [
    "# Обучить модель на обучающих данных, использовать эту модель для классификации новых текстовых сообщений и затем оценить производительность модели на тестовых данных, измеряя ее точность в классификации спама и не спама"
   ]
  },
  {
   "cell_type": "code",
   "execution_count": 29,
   "id": "245d99f1",
   "metadata": {},
   "outputs": [
    {
     "data": {
      "text/plain": [
       "0.9827709978463748"
      ]
     },
     "execution_count": 29,
     "metadata": {},
     "output_type": "execute_result"
    }
   ],
   "source": [
    "clf.fit(X_train,y_train)\n",
    "emails=[\n",
    "    'Sounds great! Are you home now?',\n",
    "    'Will u meet ur dream partner soon? Is ur career off 2 a flyng start? 2 find out free, txt HORO followed by ur star sign, e. g. HORO ARIES'\n",
    "]\n",
    "clf.predict(emails)\n",
    "clf.score(X_test,y_test)"
   ]
  },
  {
   "cell_type": "markdown",
   "id": "56df6e90",
   "metadata": {},
   "source": [
    "# 3) Тестирование нескольких классификаторов на наборе данных с различными признаками \n"
   ]
  },
  {
   "cell_type": "markdown",
   "id": "f6d24e72",
   "metadata": {},
   "source": [
    "# Задание 1: Выполнение анализа и классификации текстовых сообщений (электронных писем) на спам и не спам, используя различные методы обработки текста и множество различных классификаторов, а также объединение их в ансамбль для повышения точности классификации"
   ]
  },
  {
   "cell_type": "markdown",
   "id": "628107ce",
   "metadata": {},
   "source": [
    "# Произвести импорт необходимых библиотек и загрузку исходных данных из файла spam2.csv. Проверить, есть ли пропущенные значения в оставшихся столбцах"
   ]
  },
  {
   "cell_type": "code",
   "execution_count": 37,
   "id": "51c29fa2",
   "metadata": {},
   "outputs": [
    {
     "data": {
      "text/html": [
       "<div>\n",
       "<style scoped>\n",
       "    .dataframe tbody tr th:only-of-type {\n",
       "        vertical-align: middle;\n",
       "    }\n",
       "\n",
       "    .dataframe tbody tr th {\n",
       "        vertical-align: top;\n",
       "    }\n",
       "\n",
       "    .dataframe thead th {\n",
       "        text-align: right;\n",
       "    }\n",
       "</style>\n",
       "<table border=\"1\" class=\"dataframe\">\n",
       "  <thead>\n",
       "    <tr style=\"text-align: right;\">\n",
       "      <th></th>\n",
       "      <th>v1</th>\n",
       "      <th>v2</th>\n",
       "      <th>Unnamed: 2</th>\n",
       "      <th>Unnamed: 3</th>\n",
       "      <th>Unnamed: 4</th>\n",
       "    </tr>\n",
       "  </thead>\n",
       "  <tbody>\n",
       "    <tr>\n",
       "      <th>0</th>\n",
       "      <td>ham</td>\n",
       "      <td>Go until jurong point, crazy.. Available only ...</td>\n",
       "      <td>NaN</td>\n",
       "      <td>NaN</td>\n",
       "      <td>NaN</td>\n",
       "    </tr>\n",
       "    <tr>\n",
       "      <th>1</th>\n",
       "      <td>ham</td>\n",
       "      <td>Ok lar... Joking wif u oni...</td>\n",
       "      <td>NaN</td>\n",
       "      <td>NaN</td>\n",
       "      <td>NaN</td>\n",
       "    </tr>\n",
       "    <tr>\n",
       "      <th>2</th>\n",
       "      <td>spam</td>\n",
       "      <td>Free entry in 2 a wkly comp to win FA Cup fina...</td>\n",
       "      <td>NaN</td>\n",
       "      <td>NaN</td>\n",
       "      <td>NaN</td>\n",
       "    </tr>\n",
       "    <tr>\n",
       "      <th>3</th>\n",
       "      <td>ham</td>\n",
       "      <td>U dun say so early hor... U c already then say...</td>\n",
       "      <td>NaN</td>\n",
       "      <td>NaN</td>\n",
       "      <td>NaN</td>\n",
       "    </tr>\n",
       "    <tr>\n",
       "      <th>4</th>\n",
       "      <td>ham</td>\n",
       "      <td>Nah I don't think he goes to usf, he lives aro...</td>\n",
       "      <td>NaN</td>\n",
       "      <td>NaN</td>\n",
       "      <td>NaN</td>\n",
       "    </tr>\n",
       "  </tbody>\n",
       "</table>\n",
       "</div>"
      ],
      "text/plain": [
       "     v1                                                 v2 Unnamed: 2  \\\n",
       "0   ham  Go until jurong point, crazy.. Available only ...        NaN   \n",
       "1   ham                      Ok lar... Joking wif u oni...        NaN   \n",
       "2  spam  Free entry in 2 a wkly comp to win FA Cup fina...        NaN   \n",
       "3   ham  U dun say so early hor... U c already then say...        NaN   \n",
       "4   ham  Nah I don't think he goes to usf, he lives aro...        NaN   \n",
       "\n",
       "  Unnamed: 3 Unnamed: 4  \n",
       "0        NaN        NaN  \n",
       "1        NaN        NaN  \n",
       "2        NaN        NaN  \n",
       "3        NaN        NaN  \n",
       "4        NaN        NaN  "
      ]
     },
     "execution_count": 37,
     "metadata": {},
     "output_type": "execute_result"
    }
   ],
   "source": [
    "import numpy as np\n",
    "import pandas as pd\n",
    "import matplotlib as mpl\n",
    "import matplotlib.pyplot as plt\n",
    "import seaborn as sns\n",
    "import string\n",
    "from sklearn.feature_extraction.text import TfidfVectorizer\n",
    "from sklearn.model_selection import train_test_split\n",
    "from nltk.stem import SnowballStemmer\n",
    "from nltk.corpus import stopwords\n",
    "\n",
    "from sklearn.linear_model import LogisticRegression\n",
    "from sklearn.svm import SVC\n",
    "from sklearn.naive_bayes import MultinomialNB\n",
    "from sklearn.tree import DecisionTreeClassifier\n",
    "from sklearn.neighbors import KNeighborsClassifier\n",
    "from sklearn.ensemble import RandomForestClassifier\n",
    "from sklearn.ensemble import AdaBoostClassifier\n",
    "from sklearn.ensemble import BaggingClassifier\n",
    "from sklearn.ensemble import ExtraTreesClassifier\n",
    "from sklearn.metrics import accuracy_score\n",
    "\n",
    "%matplotlib inline\n",
    "\n",
    "sms = pd.read_csv('spam2.csv', encoding='latin-1')\n",
    "sms.head()"
   ]
  },
  {
   "cell_type": "markdown",
   "id": "2d8de540",
   "metadata": {},
   "source": [
    "# Произвести предварительную обработку данных о текстовых сообщениях, включая удаление ненужных столбцов, переименование столбцов, анализ статистики по классам, вычисление длины сообщений и визуализацию распределения длин сообщений в наборе данных с целью подготовки данных для последующей аналитики и обучения моделей"
   ]
  },
  {
   "cell_type": "code",
   "execution_count": 38,
   "id": "48ae8ccc",
   "metadata": {},
   "outputs": [
    {
     "data": {
      "text/plain": [
       "array([<AxesSubplot:title={'center':'ham'}>,\n",
       "       <AxesSubplot:title={'center':'spam'}>], dtype=object)"
      ]
     },
     "execution_count": 38,
     "metadata": {},
     "output_type": "execute_result"
    },
    {
     "data": {
      "image/png": "[encoded data removed]",
      "text/plain": [
       "<Figure size 792x360 with 2 Axes>"
      ]
     },
     "metadata": {
      "needs_background": "light"
     },
     "output_type": "display_data"
    }
   ],
   "source": [
    "sms = sms.drop(['Unnamed: 2','Unnamed: 3','Unnamed: 4'],axis=1)\n",
    "sms = sms.rename(columns = {'v1':'label','v2':'message'})\n",
    "sms.groupby('label').describe()\n",
    "sms['length'] = sms['message'].apply(len)\n",
    "sms.head()\n",
    "mpl.rcParams['patch.force_edgecolor'] = True\n",
    "plt.style.use('seaborn-bright')\n",
    "sms.hist(column='length', by='label', bins=50,figsize=(11,5))"
   ]
  },
  {
   "cell_type": "markdown",
   "id": "b28aaf0e",
   "metadata": {},
   "source": [
    "# Выполнить предварительную обработку текстовых данных, удалить пунктуацию и стоп-слова, а затем преобразовать текст в числовой формат с использованием TF-IDF для последующего анализа и обучения моделей машинного обучения"
   ]
  },
  {
   "cell_type": "code",
   "execution_count": 39,
   "id": "1af9041f",
   "metadata": {},
   "outputs": [],
   "source": [
    "text_feat = sms['message'].copy()\n",
    "def text_process(text):\n",
    "\n",
    "    text = text.translate(str.maketrans('', '', string.punctuation))\n",
    "    text = [word for word in text.split() if word.lower() not in stopwords.words('english')]\n",
    "\n",
    "    return \" \".join(text)\n",
    "text_feat = text_feat.apply(text_process)\n",
    "vectorizer = TfidfVectorizer()\n",
    "features = vectorizer.fit_transform(text_feat)"
   ]
  },
  {
   "cell_type": "markdown",
   "id": "f06b878a",
   "metadata": {},
   "source": [
    "# Разделить признаки features (которые были преобразованы из текстовых данных с использованием TF-IDF) и метки sms['label'] на обучающий и тестовый наборы данных с помощью функции train_test_split. Создать различные классификаторы машинного обучения, включая SVC, KNeighborsClassifier, MultinomialNB, DecisionTreeClassifier, LogisticRegression, RandomForestClassifier, AdaBoostClassifier, BaggingClassifier, и ExtraTreesClassifier. Создать словарь clfs, где каждому классификатору присваивается метка для идентификации. Определить функцию train_classifier(clf, feature_train, labels_train) для обучения классификатора clf на обучающем наборе данных feature_train с соответствующими метками labels_train. Определить функцию predict_labels(clf, features) для предсказания меток с использованием обученного классификатора clf на входных признаках features\n"
   ]
  },
  {
   "cell_type": "code",
   "execution_count": 40,
   "id": "5529ebfe",
   "metadata": {},
   "outputs": [],
   "source": [
    "features_train, features_test, labels_train, labels_test = train_test_split(features, sms['label'], test_size=0.3, random_state=111)\n",
    "svc = SVC(kernel='sigmoid', gamma=1.0)\n",
    "knc = KNeighborsClassifier(n_neighbors=49)\n",
    "mnb = MultinomialNB(alpha=0.2)\n",
    "dtc = DecisionTreeClassifier(min_samples_split=7, random_state=111)\n",
    "lrc = LogisticRegression(solver='liblinear', penalty='l1')\n",
    "rfc = RandomForestClassifier(n_estimators=31, random_state=111)\n",
    "abc = AdaBoostClassifier(n_estimators=62, random_state=111)\n",
    "bc = BaggingClassifier(n_estimators=9, random_state=111)\n",
    "etc = ExtraTreesClassifier(n_estimators=9, random_state=111)\n",
    "clfs = {'SVC' : svc,'KN' : knc, 'NB': mnb, 'DT': dtc, 'LR': lrc, 'RF': rfc, 'AdaBoost': abc, 'BgC': bc, 'ETC': etc}\n",
    "def train_classifier(clf, feature_train, labels_train):\n",
    "    clf.fit(feature_train, labels_train)\n",
    "def predict_labels(clf, features):\n",
    "    return (clf.predict(features))"
   ]
  },
  {
   "cell_type": "markdown",
   "id": "4b5b041e",
   "metadata": {},
   "source": [
    "# Создать пустой список pred_scores для хранения оценок производительности различных классификаторов и словарь pred_dict для хранения оценок точности классификации каждого классификатора.Для каждого классификатора v из словаря clfs выполнить следующие действия: обучить классификатор v на обучающем наборе данных features_train с соответствующими метками labels_train, предсказать метки с использованием обученного классификатора v на тестовых признаках features_test, рассчитать точность классификации, сравнивая предсказанные метки с фактическими метками тестового набора данных с помощью функции accuracy_score. Для каждого классификатора k создать запись в словаре pred_dict. Создать объект DataFrame df на основе словаря pred_dict. Выполнить построение столбчатой диаграммы, на которой отображается точность классификации каждого классификатора"
   ]
  },
  {
   "cell_type": "code",
   "execution_count": 41,
   "id": "4f28c063",
   "metadata": {},
   "outputs": [
    {
     "name": "stderr",
     "output_type": "stream",
     "text": [
      "D:\\Anakonda\\lib\\site-packages\\sklearn\\ensemble\\_weight_boosting.py:519: FutureWarning: The SAMME.R algorithm (the default) is deprecated and will be removed in 1.6. Use the SAMME algorithm to circumvent this warning.\n",
      "  warnings.warn(\n"
     ]
    },
    {
     "data": {
      "text/plain": [
       "<matplotlib.legend.Legend at 0x1e7feebc310>"
      ]
     },
     "execution_count": 41,
     "metadata": {},
     "output_type": "execute_result"
    },
    {
     "data": {
      "image/png": "[encoded data removed]",
      "text/plain": [
       "<Figure size 792x432 with 1 Axes>"
      ]
     },
     "metadata": {
      "needs_background": "light"
     },
     "output_type": "display_data"
    }
   ],
   "source": [
    "pred_scores = []\n",
    "pred_dict={}\n",
    "for k,v in clfs.items():\n",
    "    train_classifier(v, features_train, labels_train)\n",
    "    pred = predict_labels(v,features_test)\n",
    "    pred_scores.append((k, [accuracy_score(labels_test,pred)]))\n",
    "    pred_dict[k]=[accuracy_score(labels_test,pred)]\n",
    "df = pd.DataFrame.from_dict(pred_dict,orient='index', columns=['Score'])\n",
    "df\n",
    "df.plot(kind='bar', ylim=(0.9,1.0), figsize=(11,6), align='center', colormap=\"Accent\")\n",
    "plt.xticks(np.arange(9), df.index)\n",
    "plt.ylabel('Accuracy Score')\n",
    "plt.title('Distribution by Classifier')\n",
    "plt.legend(bbox_to_anchor=(1.05, 1), loc=2, borderaxespad=0.)"
   ]
  },
  {
   "cell_type": "markdown",
   "id": "f854f414",
   "metadata": {},
   "source": [
    "# Создать функцию stemmer, которая принимает текст text в виде строки. В функции stemmer текст разбивается на отдельные слова и каждое слово подвергается стеммингу с использованием алгоритма SnowballStemmer для английского языка.  Применить функцию stemmer к каждому элементу в Series text_feat, которые представляют собой текстовые сообщения. Создать объект features, который представляет TF-IDF векторы для текстовых сообщений после применения стемминга.Далее данные разделить на обучающий и тестовый наборы признаков и меток с использованием train_test_split.Для каждого классификатора из словаря clfs выполнить обучение на обучающем наборе и предсказание меток на тестовом наборе. Точность классификации для каждого классификатора вычислить с помощью функции accuracy_score и записать в словарь pred_dict с меткой классификатора k"
   ]
  },
  {
   "cell_type": "code",
   "execution_count": 42,
   "id": "4d11ce7c",
   "metadata": {},
   "outputs": [
    {
     "name": "stderr",
     "output_type": "stream",
     "text": [
      "D:\\Anakonda\\lib\\site-packages\\sklearn\\ensemble\\_weight_boosting.py:519: FutureWarning: The SAMME.R algorithm (the default) is deprecated and will be removed in 1.6. Use the SAMME algorithm to circumvent this warning.\n",
      "  warnings.warn(\n"
     ]
    }
   ],
   "source": [
    "def stemmer (text):\n",
    "    text = text.split()\n",
    "    words = \"\"\n",
    "    for i in text:\n",
    "            stemmer = SnowballStemmer(\"english\")\n",
    "            words += (stemmer.stem(i))+\" \"\n",
    "    return words\n",
    "text_feat = text_feat.apply(stemmer)\n",
    "features = vectorizer.fit_transform(text_feat)\n",
    "features_train, features_test, labels_train, labels_test = train_test_split(features, sms['label'], test_size=0.3, random_state=111)\n",
    "pred_dict={}\n",
    "for k,v in clfs.items():\n",
    "    train_classifier(v, features_train, labels_train)\n",
    "    pred = predict_labels(v,features_test)\n",
    "    pred_dict[k]=[accuracy_score(labels_test,pred)]"
   ]
  },
  {
   "cell_type": "markdown",
   "id": "7712d854",
   "metadata": {},
   "source": [
    "# Выполнить сравнение различных классификаторов для определения, какой из них лучше справляется с задачей классификации текстовых сообщений на спам и не спам. Измерить точность каждого классификатора и визуализировать результаты сравнения с использованием столбчатой диаграммы"
   ]
  },
  {
   "cell_type": "code",
   "execution_count": 43,
   "id": "c111ea6b",
   "metadata": {},
   "outputs": [
    {
     "data": {
      "text/plain": [
       "<matplotlib.legend.Legend at 0x1e7c4829220>"
      ]
     },
     "execution_count": 43,
     "metadata": {},
     "output_type": "execute_result"
    },
    {
     "data": {
      "image/png": "[encoded data removed]",
      "text/plain": [
       "<Figure size 792x432 with 1 Axes>"
      ]
     },
     "metadata": {
      "needs_background": "light"
     },
     "output_type": "display_data"
    }
   ],
   "source": [
    "df2 = pd.DataFrame.from_dict(pred_dict,orient='index', columns=['Score2'])\n",
    "df = pd.concat([df,df2],axis=1)\n",
    "df\n",
    "df.plot(kind='bar', ylim=(0.85,1.0), figsize=(11,6), align='center', colormap=\"Accent\")\n",
    "plt.xticks(np.arange(9), df.index)\n",
    "plt.ylabel('Accuracy Score')\n",
    "plt.title('Distribution by Classifier')\n",
    "plt.legend(bbox_to_anchor=(1.05, 1), loc=2, borderaxespad=0.)"
   ]
  },
  {
   "cell_type": "markdown",
   "id": "52a5234c",
   "metadata": {},
   "source": [
    "# Создать ансамбль классификаторов, используя метод голосования с мягким голосованием (soft voting). Ансамбль включает в себя несколько различных классификаторов, таких как BaggingClassifier (BgC), ExtraTreesClassifier (ETC), RandomForestClassifier (RF) и AdaBoostClassifier (Ada). Затем обучить ансамбль на обучающих данных (features_train, labels_train) и использовать его для предсказания меток на тестовых данных (features_test). Вывести точность предсказаний, оценивая, насколько хорошо ансамбль классификаторов справляется с задачей классификации\n"
   ]
  },
  {
   "cell_type": "code",
   "execution_count": 44,
   "id": "68e40a67",
   "metadata": {},
   "outputs": [
    {
     "name": "stderr",
     "output_type": "stream",
     "text": [
      "D:\\Anakonda\\lib\\site-packages\\sklearn\\ensemble\\_weight_boosting.py:519: FutureWarning: The SAMME.R algorithm (the default) is deprecated and will be removed in 1.6. Use the SAMME algorithm to circumvent this warning.\n",
      "  warnings.warn(\n"
     ]
    },
    {
     "name": "stdout",
     "output_type": "stream",
     "text": [
      "0.9820574162679426\n"
     ]
    }
   ],
   "source": [
    "from sklearn.ensemble import VotingClassifier\n",
    "eclf = VotingClassifier(estimators=[('BgC', bc), ('ETC', etc), ('RF', rfc), ('Ada', abc)], voting='soft')\n",
    "eclf.fit(features_train,labels_train)\n",
    "pred = eclf.predict(features_test)\n",
    "print(accuracy_score(labels_test,pred))"
   ]
  },
  {
   "cell_type": "code",
   "execution_count": null,
   "id": "16eb3c94",
   "metadata": {},
   "outputs": [],
   "source": []
  }
 ],
 "metadata": {
  "kernelspec": {
   "display_name": "Python 3 (ipykernel)",
   "language": "python",
   "name": "python3"
  },
  "language_info": {
   "codemirror_mode": {
    "name": "ipython",
    "version": 3
   },
   "file_extension": ".py",
   "mimetype": "text/x-python",
   "name": "python",
   "nbconvert_exporter": "python",
   "pygments_lexer": "ipython3",
   "version": "3.9.12"
  }
 },
 "nbformat": 4,
 "nbformat_minor": 5
}
