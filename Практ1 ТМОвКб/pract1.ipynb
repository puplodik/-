{
 "cells": [
  {
   "cell_type": "markdown",
   "id": "1ce3ac76",
   "metadata": {},
   "source": [
    "# Практическая работа 1 Журавлев Александр Дмитриевич"
   ]
  },
  {
   "cell_type": "markdown",
   "id": "a64f63cf",
   "metadata": {},
   "source": [
    "# 1) 01-task-train-test-split"
   ]
  },
  {
   "cell_type": "code",
   "execution_count": 24,
   "id": "8c32567d",
   "metadata": {},
   "outputs": [],
   "source": [
    "import pandas as pd"
   ]
  },
  {
   "cell_type": "code",
   "execution_count": 25,
   "id": "10d67b43",
   "metadata": {},
   "outputs": [],
   "source": [
    "from sklearn.model_selection import StratifiedShuffleSplit\n",
    "from sklearn.preprocessing import StandardScaler\n",
    "from sklearn.neighbors import KNeighborsClassifier\n",
    "from sklearn.model_selection import train_test_split\n",
    "import numpy as np\n",
    "import matplotlib.pyplot as plt"
   ]
  },
  {
   "cell_type": "code",
   "execution_count": 26,
   "id": "4a546f36",
   "metadata": {},
   "outputs": [
    {
     "name": "stdout",
     "output_type": "stream",
     "text": [
      "   word_freq_make  word_freq_address  word_freq_all  word_freq_3d  \\\n",
      "0            0.00               0.64           0.64           0.0   \n",
      "1            0.21               0.28           0.50           0.0   \n",
      "2            0.06               0.00           0.71           0.0   \n",
      "3            0.00               0.00           0.00           0.0   \n",
      "4            0.00               0.00           0.00           0.0   \n",
      "\n",
      "   word_freq_our  word_freq_over  word_freq_remove  word_freq_internet  \\\n",
      "0           0.32            0.00              0.00                0.00   \n",
      "1           0.14            0.28              0.21                0.07   \n",
      "2           1.23            0.19              0.19                0.12   \n",
      "3           0.63            0.00              0.31                0.63   \n",
      "4           0.63            0.00              0.31                0.63   \n",
      "\n",
      "   word_freq_order  word_freq_mail  ...  char_freq_;  char_freq_(  \\\n",
      "0             0.00            0.00  ...         0.00        0.000   \n",
      "1             0.00            0.94  ...         0.00        0.132   \n",
      "2             0.64            0.25  ...         0.01        0.143   \n",
      "3             0.31            0.63  ...         0.00        0.137   \n",
      "4             0.31            0.63  ...         0.00        0.135   \n",
      "\n",
      "   char_freq_[  char_freq_!  char_freq_$  char_freq_#  \\\n",
      "0          0.0        0.778        0.000        0.000   \n",
      "1          0.0        0.372        0.180        0.048   \n",
      "2          0.0        0.276        0.184        0.010   \n",
      "3          0.0        0.137        0.000        0.000   \n",
      "4          0.0        0.135        0.000        0.000   \n",
      "\n",
      "   capital_run_length_average  capital_run_length_longest  \\\n",
      "0                       3.756                          61   \n",
      "1                       5.114                         101   \n",
      "2                       9.821                         485   \n",
      "3                       3.537                          40   \n",
      "4                       3.537                          40   \n",
      "\n",
      "   capital_run_length_total  spam_or_non-spam_classes  \n",
      "0                       278                         1  \n",
      "1                      1028                         1  \n",
      "2                      2259                         1  \n",
      "3                       191                         1  \n",
      "4                       191                         1  \n",
      "\n",
      "[5 rows x 58 columns]\n"
     ]
    }
   ],
   "source": [
    "# загрузим данные из репозетория и выведем головные строки\n",
    "url = \"https://archive.ics.uci.edu/ml/machine-learning-databases/spambase/spambase.data\"\n",
    "column_names = [\"word_freq_make\", \"word_freq_address\", \"word_freq_all\", \"word_freq_3d\", \"word_freq_our\", \"word_freq_over\", \"word_freq_remove\", \"word_freq_internet\",\n",
    "                \"word_freq_order\", \"word_freq_mail\", \"word_freq_receive\", \"word_freq_will\",\"word_freq_people\", \"word_freq_report\", \"word_freq_addresses\", \"word_freq_free\",\n",
    "                \"word_freq_business\", \"word_freq_email\", \"word_freq_you\", \"word_freq_credit\",\"word_freq_your\", \"word_freq_font\", \"word_freq_000\", \"word_freq_money\",\n",
    "                \"word_freq_hp\", \"word_freq_hpl\", \"word_freq_george\", \"word_freq_650\", \"word_freq_lab\",\"word_freq_labs\", \"word_freq_telnet\", \"word_freq_857\", \"word_freq_data\",\n",
    "                \"word_freq_415\", \"word_freq_85\", \"word_freq_technology\", \"word_freq_1999\", \"word_freq_parts\", \"word_freq_pm\",\"word_freq_direct\", \"word_freq_cs\",\n",
    "                \"word_freq_meeting\", \"word_freq_original\", \"word_freq_project\", \"word_freq_re\", \"word_freq_edu\", \"word_freq_table\", \"word_freq_conference\", \"char_freq_;\",\n",
    "                \"char_freq_(\", \"char_freq_[\", \"char_freq_!\", \"char_freq_$\", \"char_freq_#\", \"capital_run_length_average\", \"capital_run_length_longest\", \"capital_run_length_total\", \"spam_or_non-spam_classes\"]\n",
    "\n",
    "data = pd.read_csv(url, names=column_names)\n",
    "print(data.head())"
   ]
  },
  {
   "cell_type": "markdown",
   "id": "f371b7ad",
   "metadata": {},
   "source": [
    "# Проанализируем на сбалансированность классов"
   ]
  },
  {
   "cell_type": "code",
   "execution_count": 27,
   "id": "882f021f",
   "metadata": {},
   "outputs": [
    {
     "name": "stdout",
     "output_type": "stream",
     "text": [
      "0    2788\n",
      "1    1813\n",
      "Name: spam_or_non-spam_classes, dtype: int64\n",
      "Соотношение классов:\n",
      "0    0.605955\n",
      "1    0.394045\n",
      "Name: spam_or_non-spam_classes, dtype: float64\n"
     ]
    }
   ],
   "source": [
    "# Подсчет количества примеров классов\n",
    "class_counts = data['spam_or_non-spam_classes'].value_counts()\n",
    "\n",
    "# Печать количества примеров классов и их процентного соотношения\n",
    "print(class_counts)\n",
    "print(\"Соотношение классов:\")\n",
    "print(class_counts / len(data))"
   ]
  },
  {
   "cell_type": "markdown",
   "id": "8f4c4866",
   "metadata": {},
   "source": [
    "# Разобьем на тестовую и обущающую как 80|20 и 70|30"
   ]
  },
  {
   "cell_type": "code",
   "execution_count": 28,
   "id": "e40f434d",
   "metadata": {},
   "outputs": [
    {
     "name": "stdout",
     "output_type": "stream",
     "text": [
      "70/30\n",
      "Обучающая выборка  (3220, 58)\n",
      "Тестовый набор  (1381, 58)\n"
     ]
    }
   ],
   "source": [
    "# 70|30\n",
    "split_70_30 = StratifiedShuffleSplit(n_splits=1, test_size=0.3, random_state=42)\n",
    "for train_index, test_index in split_70_30.split(data, data[\"spam_or_non-spam_classes\"]):\n",
    "    train_set_70_30 = data.loc[train_index]\n",
    "    test_set_70_30 = data.loc[test_index]\n",
    "\n",
    "# Вывод 70|30\n",
    "print(\"70/30\")\n",
    "print(\"Обучающая выборка \", train_set_70_30.shape)\n",
    "print(\"Тестовый набор \", test_set_70_30.shape)"
   ]
  },
  {
   "cell_type": "code",
   "execution_count": 29,
   "id": "d14334d5",
   "metadata": {},
   "outputs": [
    {
     "name": "stdout",
     "output_type": "stream",
     "text": [
      "80/20\n",
      "Обучающая выборка  (3680, 58)\n",
      "Тестовый набор  (921, 58)\n"
     ]
    }
   ],
   "source": [
    "# 80|20    \n",
    "split_80_20 = StratifiedShuffleSplit(n_splits=1, test_size=0.2, random_state=42)\n",
    "for train_index, test_index in split_80_20.split(data, data[\"spam_or_non-spam_classes\"]):\n",
    "    train_set_80_20 = data.loc[train_index]\n",
    "    test_set_80_20 = data.loc[test_index]\n",
    "# Вывод 80|20\n",
    "print(\"80/20\")\n",
    "print(\"Обучающая выборка \", train_set_80_20.shape)\n",
    "print(\"Тестовый набор \", test_set_80_20.shape)"
   ]
  },
  {
   "cell_type": "markdown",
   "id": "be751bf5",
   "metadata": {},
   "source": [
    "# 2) 02-task-standardize-data"
   ]
  },
  {
   "cell_type": "markdown",
   "id": "1a52dc68",
   "metadata": {},
   "source": [
    "# NSFG"
   ]
  },
  {
   "cell_type": "code",
   "execution_count": 30,
   "id": "e582748e",
   "metadata": {},
   "outputs": [
    {
     "name": "stdout",
     "output_type": "stream",
     "text": [
      "(9358, 10)\n",
      "Index(['caseid', 'outcome', 'birthwgt_lb1', 'birthwgt_oz1', 'prglngth',\n",
      "       'nbrnaliv', 'agecon', 'agepreg', 'hpagelb', 'wgt2013_2015'],\n",
      "      dtype='object')\n",
      "0     4.0\n",
      "1    12.0\n",
      "2     4.0\n",
      "3     NaN\n",
      "4    13.0\n",
      "Name: birthwgt_oz1, dtype: float64\n",
      "\n",
      "1.0    6379\n",
      "2.0     100\n",
      "3.0       5\n",
      "Name: nbrnaliv, dtype: int64\n",
      "count    9109.000000\n",
      "mean        0.552069\n",
      "std         0.271479\n",
      "min         0.000000\n",
      "25%         0.250000\n",
      "50%         0.670000\n",
      "75%         0.750000\n",
      "max         0.920000\n",
      "dtype: float64\n"
     ]
    }
   ],
   "source": [
    "# Читаем файл из рабочей области\n",
    "nsfg = pd.read_hdf('nsfg.hdf5', 'nsfg')\n",
    "\n",
    "# Выводим строки и столбцы\n",
    "print(nsfg.shape)\n",
    "print(nsfg.columns)\n",
    "\n",
    "ounces = nsfg['birthwgt_oz1']\n",
    "\n",
    "# Отобразим 5 головных элементов\n",
    "print(ounces.head(5))\n",
    "\n",
    "nsfg['nbrnaliv'].value_counts()\n",
    "\n",
    "# В 8 строке изменим значение\n",
    "nsfg['nbrnaliv'].replace([8], np.nan, inplace=True)\n",
    "\n",
    "# Выведем значения с частотой нахождения в файле\n",
    "print(\"\")\n",
    "print(nsfg['nbrnaliv'].value_counts())\n",
    "\n",
    "# Запись переменных\n",
    "nsfg['agecon'].describe()\n",
    "nsfg['agepreg'].describe()\n",
    "\n",
    "# Делим колонки на 100\n",
    "agecon = nsfg['agecon'] / 100\n",
    "agepreg = nsfg['agepreg'] / 100\n",
    "\n",
    "# Находим разницу\n",
    "preg_length = agepreg - agecon\n",
    "\n",
    "\n",
    "print(preg_length.describe())"
   ]
  },
  {
   "cell_type": "markdown",
   "id": "303aea6b",
   "metadata": {},
   "source": [
    "# гистограмма"
   ]
  },
  {
   "cell_type": "code",
   "execution_count": 31,
   "id": "0ac0e6b9",
   "metadata": {},
   "outputs": [
    {
     "data": {
      "image/png": "[encoded data removed]",
      "text/plain": [
       "<Figure size 432x288 with 1 Axes>"
      ]
     },
     "metadata": {
      "needs_background": "light"
     },
     "output_type": "display_data"
    }
   ],
   "source": [
    "plt.hist(agecon, bins=15)\n",
    "plt.xlabel(\"Возраст зачатия\")\n",
    "plt.ylabel('Количество беременностей')\n",
    "plt.show()"
   ]
  },
  {
   "cell_type": "markdown",
   "id": "c25c06bb",
   "metadata": {},
   "source": [
    "# Масса тела при рождении"
   ]
  },
  {
   "cell_type": "code",
   "execution_count": 32,
   "id": "e61eb2c3",
   "metadata": {},
   "outputs": [
    {
     "name": "stdout",
     "output_type": "stream",
     "text": [
      "Масса тела:  7.425793792365323\n",
      "Единовременное среднее значение: 7.440501888828926\n",
      "Многократное среднее значение: 5.6861702127659575\n"
     ]
    }
   ],
   "source": [
    "# Перебор строк\n",
    "def resample_rows_weighted(df, column='wgt2013_2015'):\n",
    "    \"\"\"Resamples a DataFrame using probabilities proportional to given column.\n",
    "    Args:\n",
    "        df: DataFrame\n",
    "        column: string column name to use as weights\n",
    "    returns:\n",
    "        DataFrame\n",
    "    \"\"\"\n",
    "    weights = df[column].copy()\n",
    "    weights /= sum(weights)\n",
    "    indices = np.random.choice(df.index, len(df), replace=True, p=weights)\n",
    "    sample = df.loc[indices]\n",
    "    return sample\n",
    "\n",
    "# Вычисляем среднюю массу тела детей\n",
    "nsfg = resample_rows_weighted(nsfg, 'wgt2013_2015')\n",
    "pounds = nsfg['birthwgt_lb1'].replace([98, 99], np.nan)\n",
    "ounces = nsfg['birthwgt_oz1'].replace([98, 99], np.nan)\n",
    "birth_weight = pounds + ounces/16\n",
    "full_term = nsfg['prglngth'] >= 37\n",
    "full_term_weight = birth_weight[full_term]\n",
    "\n",
    "print(\"Масса тела: \", full_term_weight.mean())\n",
    "\n",
    "# Фильтрация\n",
    "full_term = nsfg['prglngth'] >= 37\n",
    "single = nsfg['nbrnaliv'] == 1\n",
    "single_full_term_weight = birth_weight[single & full_term]\n",
    "print('Единовременное среднее значение:', single_full_term_weight.mean())\n",
    "\n",
    "mult_full_term_weight = birth_weight[~single & full_term]\n",
    "print('Многократное среднее значение:', mult_full_term_weight.mean())"
   ]
  },
  {
   "cell_type": "markdown",
   "id": "1a24bd34",
   "metadata": {},
   "source": [
    "# Нормализация данных (agepreg и agecon)"
   ]
  },
  {
   "cell_type": "code",
   "execution_count": 33,
   "id": "5aa1d281",
   "metadata": {},
   "outputs": [
    {
     "name": "stdout",
     "output_type": "stream",
     "text": [
      "(9358, 10)\n",
      "Index(['caseid', 'outcome', 'birthwgt_lb1', 'birthwgt_oz1', 'prglngth',\n",
      "       'nbrnaliv', 'agecon', 'agepreg', 'hpagelb', 'wgt2013_2015'],\n",
      "      dtype='object')\n"
     ]
    }
   ],
   "source": [
    "nsfg = pd.read_hdf('nsfg.hdf5', 'nsfg')\n",
    "\n",
    "# Отобразим строки и столбцы\n",
    "print(nsfg.shape)\n",
    "print(nsfg.columns)"
   ]
  },
  {
   "cell_type": "markdown",
   "id": "2e510966",
   "metadata": {},
   "source": [
    "# Проведем нормализацию даннных на примере разницы двух столбцов \"agecon\" и \"agepreg\" из набора данных NSFG"
   ]
  },
  {
   "cell_type": "code",
   "execution_count": 34,
   "id": "0e849f91",
   "metadata": {},
   "outputs": [
    {
     "name": "stdout",
     "output_type": "stream",
     "text": [
      "count    9109.000000\n",
      "mean        0.552069\n",
      "std         0.271479\n",
      "min         0.000000\n",
      "25%         0.250000\n",
      "50%         0.670000\n",
      "75%         0.750000\n",
      "max         0.920000\n",
      "dtype: float64\n"
     ]
    }
   ],
   "source": [
    "agecon = nsfg['agecon'] / 100\n",
    "agepreg = nsfg['agepreg'] / 100\n",
    "preg_length = agepreg - agecon\n",
    "print(preg_length.describe())"
   ]
  },
  {
   "cell_type": "markdown",
   "id": "efc90589",
   "metadata": {},
   "source": [
    "# Нормализация данных Wine"
   ]
  },
  {
   "cell_type": "code",
   "execution_count": 35,
   "id": "cb97d76e",
   "metadata": {},
   "outputs": [
    {
     "name": "stdout",
     "output_type": "stream",
     "text": [
      "   Type  Alcohol  Malic acid   Ash  Alcalinity of ash  Magnesium  \\\n",
      "0     1    14.23        1.71  2.43               15.6        127   \n",
      "1     1    13.20        1.78  2.14               11.2        100   \n",
      "2     1    13.16        2.36  2.67               18.6        101   \n",
      "3     1    14.37        1.95  2.50               16.8        113   \n",
      "4     1    13.24        2.59  2.87               21.0        118   \n",
      "\n",
      "   Total phenols  Flavanoids  Nonflavanoid phenols  Proanthocyanins  \\\n",
      "0           2.80        3.06                  0.28             2.29   \n",
      "1           2.65        2.76                  0.26             1.28   \n",
      "2           2.80        3.24                  0.30             2.81   \n",
      "3           3.85        3.49                  0.24             2.18   \n",
      "4           2.80        2.69                  0.39             1.82   \n",
      "\n",
      "   Color intensity   Hue  OD280/OD315 of diluted wines  Proline  \n",
      "0             5.64  1.04                          3.92     1065  \n",
      "1             4.38  1.05                          3.40     1050  \n",
      "2             5.68  1.03                          3.17     1185  \n",
      "3             7.80  0.86                          3.45     1480  \n",
      "4             4.32  1.04                          2.93      735  \n"
     ]
    },
    {
     "data": {
      "text/html": [
       "<div>\n",
       "<style scoped>\n",
       "    .dataframe tbody tr th:only-of-type {\n",
       "        vertical-align: middle;\n",
       "    }\n",
       "\n",
       "    .dataframe tbody tr th {\n",
       "        vertical-align: top;\n",
       "    }\n",
       "\n",
       "    .dataframe thead th {\n",
       "        text-align: right;\n",
       "    }\n",
       "</style>\n",
       "<table border=\"1\" class=\"dataframe\">\n",
       "  <thead>\n",
       "    <tr style=\"text-align: right;\">\n",
       "      <th></th>\n",
       "      <th>Type</th>\n",
       "      <th>Alcohol</th>\n",
       "      <th>Malic acid</th>\n",
       "      <th>Ash</th>\n",
       "      <th>Alcalinity of ash</th>\n",
       "      <th>Magnesium</th>\n",
       "      <th>Total phenols</th>\n",
       "      <th>Flavanoids</th>\n",
       "      <th>Nonflavanoid phenols</th>\n",
       "      <th>Proanthocyanins</th>\n",
       "      <th>Color intensity</th>\n",
       "      <th>Hue</th>\n",
       "      <th>OD280/OD315 of diluted wines</th>\n",
       "      <th>Proline</th>\n",
       "    </tr>\n",
       "  </thead>\n",
       "  <tbody>\n",
       "    <tr>\n",
       "      <th>count</th>\n",
       "      <td>178.000000</td>\n",
       "      <td>178.000000</td>\n",
       "      <td>178.000000</td>\n",
       "      <td>178.000000</td>\n",
       "      <td>178.000000</td>\n",
       "      <td>178.000000</td>\n",
       "      <td>178.000000</td>\n",
       "      <td>178.000000</td>\n",
       "      <td>178.000000</td>\n",
       "      <td>178.000000</td>\n",
       "      <td>178.000000</td>\n",
       "      <td>178.000000</td>\n",
       "      <td>178.000000</td>\n",
       "      <td>178.000000</td>\n",
       "    </tr>\n",
       "    <tr>\n",
       "      <th>mean</th>\n",
       "      <td>1.938202</td>\n",
       "      <td>13.000618</td>\n",
       "      <td>2.336348</td>\n",
       "      <td>2.366517</td>\n",
       "      <td>19.494944</td>\n",
       "      <td>99.741573</td>\n",
       "      <td>2.295112</td>\n",
       "      <td>2.029270</td>\n",
       "      <td>0.361854</td>\n",
       "      <td>1.590899</td>\n",
       "      <td>5.058090</td>\n",
       "      <td>0.957449</td>\n",
       "      <td>2.611685</td>\n",
       "      <td>746.893258</td>\n",
       "    </tr>\n",
       "    <tr>\n",
       "      <th>std</th>\n",
       "      <td>0.775035</td>\n",
       "      <td>0.811827</td>\n",
       "      <td>1.117146</td>\n",
       "      <td>0.274344</td>\n",
       "      <td>3.339564</td>\n",
       "      <td>14.282484</td>\n",
       "      <td>0.625851</td>\n",
       "      <td>0.998859</td>\n",
       "      <td>0.124453</td>\n",
       "      <td>0.572359</td>\n",
       "      <td>2.318286</td>\n",
       "      <td>0.228572</td>\n",
       "      <td>0.709990</td>\n",
       "      <td>314.907474</td>\n",
       "    </tr>\n",
       "    <tr>\n",
       "      <th>min</th>\n",
       "      <td>1.000000</td>\n",
       "      <td>11.030000</td>\n",
       "      <td>0.740000</td>\n",
       "      <td>1.360000</td>\n",
       "      <td>10.600000</td>\n",
       "      <td>70.000000</td>\n",
       "      <td>0.980000</td>\n",
       "      <td>0.340000</td>\n",
       "      <td>0.130000</td>\n",
       "      <td>0.410000</td>\n",
       "      <td>1.280000</td>\n",
       "      <td>0.480000</td>\n",
       "      <td>1.270000</td>\n",
       "      <td>278.000000</td>\n",
       "    </tr>\n",
       "    <tr>\n",
       "      <th>25%</th>\n",
       "      <td>1.000000</td>\n",
       "      <td>12.362500</td>\n",
       "      <td>1.602500</td>\n",
       "      <td>2.210000</td>\n",
       "      <td>17.200000</td>\n",
       "      <td>88.000000</td>\n",
       "      <td>1.742500</td>\n",
       "      <td>1.205000</td>\n",
       "      <td>0.270000</td>\n",
       "      <td>1.250000</td>\n",
       "      <td>3.220000</td>\n",
       "      <td>0.782500</td>\n",
       "      <td>1.937500</td>\n",
       "      <td>500.500000</td>\n",
       "    </tr>\n",
       "    <tr>\n",
       "      <th>50%</th>\n",
       "      <td>2.000000</td>\n",
       "      <td>13.050000</td>\n",
       "      <td>1.865000</td>\n",
       "      <td>2.360000</td>\n",
       "      <td>19.500000</td>\n",
       "      <td>98.000000</td>\n",
       "      <td>2.355000</td>\n",
       "      <td>2.135000</td>\n",
       "      <td>0.340000</td>\n",
       "      <td>1.555000</td>\n",
       "      <td>4.690000</td>\n",
       "      <td>0.965000</td>\n",
       "      <td>2.780000</td>\n",
       "      <td>673.500000</td>\n",
       "    </tr>\n",
       "    <tr>\n",
       "      <th>75%</th>\n",
       "      <td>3.000000</td>\n",
       "      <td>13.677500</td>\n",
       "      <td>3.082500</td>\n",
       "      <td>2.557500</td>\n",
       "      <td>21.500000</td>\n",
       "      <td>107.000000</td>\n",
       "      <td>2.800000</td>\n",
       "      <td>2.875000</td>\n",
       "      <td>0.437500</td>\n",
       "      <td>1.950000</td>\n",
       "      <td>6.200000</td>\n",
       "      <td>1.120000</td>\n",
       "      <td>3.170000</td>\n",
       "      <td>985.000000</td>\n",
       "    </tr>\n",
       "    <tr>\n",
       "      <th>max</th>\n",
       "      <td>3.000000</td>\n",
       "      <td>14.830000</td>\n",
       "      <td>5.800000</td>\n",
       "      <td>3.230000</td>\n",
       "      <td>30.000000</td>\n",
       "      <td>162.000000</td>\n",
       "      <td>3.880000</td>\n",
       "      <td>5.080000</td>\n",
       "      <td>0.660000</td>\n",
       "      <td>3.580000</td>\n",
       "      <td>13.000000</td>\n",
       "      <td>1.710000</td>\n",
       "      <td>4.000000</td>\n",
       "      <td>1680.000000</td>\n",
       "    </tr>\n",
       "  </tbody>\n",
       "</table>\n",
       "</div>"
      ],
      "text/plain": [
       "             Type     Alcohol  Malic acid         Ash  Alcalinity of ash  \\\n",
       "count  178.000000  178.000000  178.000000  178.000000         178.000000   \n",
       "mean     1.938202   13.000618    2.336348    2.366517          19.494944   \n",
       "std      0.775035    0.811827    1.117146    0.274344           3.339564   \n",
       "min      1.000000   11.030000    0.740000    1.360000          10.600000   \n",
       "25%      1.000000   12.362500    1.602500    2.210000          17.200000   \n",
       "50%      2.000000   13.050000    1.865000    2.360000          19.500000   \n",
       "75%      3.000000   13.677500    3.082500    2.557500          21.500000   \n",
       "max      3.000000   14.830000    5.800000    3.230000          30.000000   \n",
       "\n",
       "        Magnesium  Total phenols  Flavanoids  Nonflavanoid phenols  \\\n",
       "count  178.000000     178.000000  178.000000            178.000000   \n",
       "mean    99.741573       2.295112    2.029270              0.361854   \n",
       "std     14.282484       0.625851    0.998859              0.124453   \n",
       "min     70.000000       0.980000    0.340000              0.130000   \n",
       "25%     88.000000       1.742500    1.205000              0.270000   \n",
       "50%     98.000000       2.355000    2.135000              0.340000   \n",
       "75%    107.000000       2.800000    2.875000              0.437500   \n",
       "max    162.000000       3.880000    5.080000              0.660000   \n",
       "\n",
       "       Proanthocyanins  Color intensity         Hue  \\\n",
       "count       178.000000       178.000000  178.000000   \n",
       "mean          1.590899         5.058090    0.957449   \n",
       "std           0.572359         2.318286    0.228572   \n",
       "min           0.410000         1.280000    0.480000   \n",
       "25%           1.250000         3.220000    0.782500   \n",
       "50%           1.555000         4.690000    0.965000   \n",
       "75%           1.950000         6.200000    1.120000   \n",
       "max           3.580000        13.000000    1.710000   \n",
       "\n",
       "       OD280/OD315 of diluted wines      Proline  \n",
       "count                    178.000000   178.000000  \n",
       "mean                       2.611685   746.893258  \n",
       "std                        0.709990   314.907474  \n",
       "min                        1.270000   278.000000  \n",
       "25%                        1.937500   500.500000  \n",
       "50%                        2.780000   673.500000  \n",
       "75%                        3.170000   985.000000  \n",
       "max                        4.000000  1680.000000  "
      ]
     },
     "execution_count": 35,
     "metadata": {},
     "output_type": "execute_result"
    }
   ],
   "source": [
    "column_names = [\"Type\", \"Alcohol\", \"Malic\", \"acid\", \"Ash\", \"Alcalinity of ash\", \"Magnesium\", \"Total phenols\", \"Flavanoids\", \"Nonflavanoid phenols\", \"Proanthocyanins\", \"Color intensity\", \"Hue\", \"OD280/OD315 of diluted wines\", \"Proline\"]\n",
    "\n",
    "wine = pd.read_csv('wine_types.csv')\n",
    "\n",
    "\n",
    "# Выведем значение дисперсии столбцов в наборе данных wine\n",
    "print(wine.head())\n",
    "\n",
    "wine.describe()"
   ]
  },
  {
   "cell_type": "code",
   "execution_count": 36,
   "id": "29cb7eb0",
   "metadata": {},
   "outputs": [
    {
     "name": "stdout",
     "output_type": "stream",
     "text": [
      "Отклонение столбца Proline 99166.71735542428\n",
      "Отклонение нормализированного столбца Proline 0.17231366191842018\n"
     ]
    }
   ],
   "source": [
    "# Посмотрим отклонение столбца Proline\n",
    "print(\"Отклонение столбца Proline\", wine['Proline'].var())\n",
    "wine['Proline_log'] = np.log(wine['Proline'])\n",
    "# Посмотрим отклонение нормализированного столбца Proline\n",
    "print(\"Отклонение нормализированного столбца Proline\", wine['Proline_log'].var())"
   ]
  },
  {
   "cell_type": "markdown",
   "id": "c15154bb",
   "metadata": {},
   "source": [
    "# Вызовем функцию describe() для столбцов ‘Ash’, ‘Alcalinity of ash’, ‘Magnesium’"
   ]
  },
  {
   "cell_type": "code",
   "execution_count": 37,
   "id": "24c2dd5c",
   "metadata": {},
   "outputs": [
    {
     "data": {
      "text/html": [
       "<div>\n",
       "<style scoped>\n",
       "    .dataframe tbody tr th:only-of-type {\n",
       "        vertical-align: middle;\n",
       "    }\n",
       "\n",
       "    .dataframe tbody tr th {\n",
       "        vertical-align: top;\n",
       "    }\n",
       "\n",
       "    .dataframe thead th {\n",
       "        text-align: right;\n",
       "    }\n",
       "</style>\n",
       "<table border=\"1\" class=\"dataframe\">\n",
       "  <thead>\n",
       "    <tr style=\"text-align: right;\">\n",
       "      <th></th>\n",
       "      <th>Ash</th>\n",
       "      <th>Alcalinity of ash</th>\n",
       "      <th>Magnesium</th>\n",
       "    </tr>\n",
       "  </thead>\n",
       "  <tbody>\n",
       "    <tr>\n",
       "      <th>count</th>\n",
       "      <td>178.000000</td>\n",
       "      <td>178.000000</td>\n",
       "      <td>178.000000</td>\n",
       "    </tr>\n",
       "    <tr>\n",
       "      <th>mean</th>\n",
       "      <td>2.366517</td>\n",
       "      <td>19.494944</td>\n",
       "      <td>99.741573</td>\n",
       "    </tr>\n",
       "    <tr>\n",
       "      <th>std</th>\n",
       "      <td>0.274344</td>\n",
       "      <td>3.339564</td>\n",
       "      <td>14.282484</td>\n",
       "    </tr>\n",
       "    <tr>\n",
       "      <th>min</th>\n",
       "      <td>1.360000</td>\n",
       "      <td>10.600000</td>\n",
       "      <td>70.000000</td>\n",
       "    </tr>\n",
       "    <tr>\n",
       "      <th>25%</th>\n",
       "      <td>2.210000</td>\n",
       "      <td>17.200000</td>\n",
       "      <td>88.000000</td>\n",
       "    </tr>\n",
       "    <tr>\n",
       "      <th>50%</th>\n",
       "      <td>2.360000</td>\n",
       "      <td>19.500000</td>\n",
       "      <td>98.000000</td>\n",
       "    </tr>\n",
       "    <tr>\n",
       "      <th>75%</th>\n",
       "      <td>2.557500</td>\n",
       "      <td>21.500000</td>\n",
       "      <td>107.000000</td>\n",
       "    </tr>\n",
       "    <tr>\n",
       "      <th>max</th>\n",
       "      <td>3.230000</td>\n",
       "      <td>30.000000</td>\n",
       "      <td>162.000000</td>\n",
       "    </tr>\n",
       "  </tbody>\n",
       "</table>\n",
       "</div>"
      ],
      "text/plain": [
       "              Ash  Alcalinity of ash   Magnesium\n",
       "count  178.000000         178.000000  178.000000\n",
       "mean     2.366517          19.494944   99.741573\n",
       "std      0.274344           3.339564   14.282484\n",
       "min      1.360000          10.600000   70.000000\n",
       "25%      2.210000          17.200000   88.000000\n",
       "50%      2.360000          19.500000   98.000000\n",
       "75%      2.557500          21.500000  107.000000\n",
       "max      3.230000          30.000000  162.000000"
      ]
     },
     "execution_count": 37,
     "metadata": {},
     "output_type": "execute_result"
    }
   ],
   "source": [
    "wine[['Ash', 'Alcalinity of ash', 'Magnesium']].describe()"
   ]
  },
  {
   "cell_type": "markdown",
   "id": "019cf026",
   "metadata": {},
   "source": [
    "# Стандартизируем данные"
   ]
  },
  {
   "cell_type": "code",
   "execution_count": 38,
   "id": "c7741109",
   "metadata": {},
   "outputs": [
    {
     "name": "stdout",
     "output_type": "stream",
     "text": [
      "    Ash  Alcalinity of ash  Magnesium\n",
      "0  2.43               15.6        127\n",
      "1  2.14               11.2        100\n",
      "2  2.67               18.6        101\n",
      "[[ 0.23205254 -1.16959318  1.91390522]\n",
      " [-0.82799632 -2.49084714  0.01814502]\n",
      " [ 1.10933436 -0.2687382   0.08835836]]\n"
     ]
    }
   ],
   "source": [
    "# Создание Scaler\n",
    "ss = StandardScaler()\n",
    "\n",
    "# Берем данные\n",
    "wine_subset = wine[['Ash', 'Alcalinity of ash', 'Magnesium']]\n",
    "\n",
    "print(wine_subset.iloc[:3])\n",
    "\n",
    "# Применим масштабирование к данным\n",
    "wine_subset_scaled = ss.fit_transform(wine_subset)\n",
    "# Выведем результат\n",
    "print(wine_subset_scaled[:3])"
   ]
  },
  {
   "cell_type": "markdown",
   "id": "4c0fa714",
   "metadata": {},
   "source": [
    "# Расчет точности обучения для не стандартизированных данных"
   ]
  },
  {
   "cell_type": "code",
   "execution_count": 39,
   "id": "e35f5293",
   "metadata": {},
   "outputs": [
    {
     "name": "stdout",
     "output_type": "stream",
     "text": [
      "Точность для не стандартизированных данных 0.7777777777777778\n"
     ]
    }
   ],
   "source": [
    "wine = pd.read_csv('wine_types.csv')\n",
    "X = wine.drop('Type', axis=1)\n",
    "y = wine['Type']\n",
    "\n",
    "knn = KNeighborsClassifier()\n",
    "X_train, X_test, y_train, y_test = train_test_split(X, y)\n",
    "knn.fit(X_train, y_train)\n",
    "\n",
    "print(\"Точность для не стандартизированных данных\", knn.score(X_test, y_test))"
   ]
  },
  {
   "cell_type": "markdown",
   "id": "6994fff4",
   "metadata": {},
   "source": [
    "# Расчет точности обучения для стандартизированных данных"
   ]
  },
  {
   "cell_type": "code",
   "execution_count": 40,
   "id": "0d574ecf",
   "metadata": {},
   "outputs": [
    {
     "name": "stdout",
     "output_type": "stream",
     "text": [
      "Точность для стандартизированных данных  0.9777777777777777\n"
     ]
    }
   ],
   "source": [
    "knn = KNeighborsClassifier()\n",
    "\n",
    "ss = StandardScaler()\n",
    "X_scaled = ss.fit_transform(X)\n",
    "X_train, X_test, y_train, y_test = train_test_split(X_scaled, y)\n",
    "knn.fit(X_train, y_train)\n",
    "\n",
    "print(\"Точность для стандартизированных данных \", knn.score(X_test, y_test))"
   ]
  },
  {
   "cell_type": "markdown",
   "id": "92ee0566",
   "metadata": {},
   "source": [
    "# 3) 03-task-linear-algebra"
   ]
  },
  {
   "cell_type": "markdown",
   "id": "0d088ea3",
   "metadata": {},
   "source": [
    "# Транспонирование транспонированной матрицы это сама матрица"
   ]
  },
  {
   "cell_type": "code",
   "execution_count": 41,
   "id": "54c14596",
   "metadata": {},
   "outputs": [
    {
     "name": "stdout",
     "output_type": "stream",
     "text": [
      "Изначальная матрица:\n",
      "[[1 2]\n",
      " [3 4]\n",
      " [5 6]]\n",
      "Транспонированная исходная матрица:\n",
      "[[1 3 5]\n",
      " [2 4 6]]\n",
      "Транспонирование ранее транспонированной матрицы:\n",
      "[[1 2]\n",
      " [3 4]\n",
      " [5 6]]\n"
     ]
    }
   ],
   "source": [
    "# Создадим произвольную матрицу\n",
    "A = np.array([[1, 2],\n",
    "              [3, 4],\n",
    "              [5, 6]])\n",
    "print(\"Изначальная матрица:\")\n",
    "print(A)\n",
    "\n",
    "# Транспонирование матрицы\n",
    "A_transpose = A.T\n",
    "print(\"Транспонированная исходная матрица:\")\n",
    "print(A_transpose)\n",
    "\n",
    "# Транспонирование транспонированной матрицы\n",
    "A_transpose_transpose = A_transpose.T\n",
    "print(\"Транспонирование ранее транспонированной матрицы:\")\n",
    "print(A_transpose_transpose)"
   ]
  },
  {
   "cell_type": "markdown",
   "id": "30df47d9",
   "metadata": {},
   "source": [
    "# Для матриц A и B докажем, что сумма и транспозиция коммутируют"
   ]
  },
  {
   "cell_type": "code",
   "execution_count": 44,
   "id": "17e2b2de",
   "metadata": {},
   "outputs": [
    {
     "name": "stdout",
     "output_type": "stream",
     "text": [
      "[[3 5]\n",
      " [6 2]]\n",
      "[[9 1]\n",
      " [7 3]]\n",
      "Сумма матриц\n",
      "[[12  6]\n",
      " [13  5]]\n",
      "Транспонирование матрицы\n",
      "[[12 13]\n",
      " [ 6  5]]\n",
      "Транспонированная матрица a\n",
      "[[3 6]\n",
      " [5 2]]\n",
      "Транспонированная матрица b\n",
      "[[9 7]\n",
      " [1 3]]\n",
      "Сумма транспонированных матриц\n",
      "[[12 13]\n",
      " [ 6  5]]\n",
      "Сумма и транспозиция коммутируют\n"
     ]
    }
   ],
   "source": [
    "a = np.array([[3, 5], [6, 2]])\n",
    "b = np.array([[9, 1], [7, 3]])\n",
    "\n",
    "# Вычислим сумму двух матриц\n",
    "print(a)\n",
    "print(b)\n",
    "\n",
    "summa_aib = a + b\n",
    "print(\"Сумма матриц\")\n",
    "print(summa_aib)\n",
    "\n",
    "# Транспонируем\n",
    "transpose_summa_aib = np.transpose(summa_aib)\n",
    "print(\"Транспонирование матрицы\")\n",
    "print(transpose_summa_aib)\n",
    "\n",
    "# Транспонируем матрицы и вычисляем сумму траспонированных матриц\n",
    "transpose_a = np.transpose(a)\n",
    "print(\"Транспонированная матрица a\")\n",
    "print(transpose_a)\n",
    "\n",
    "transpose_b = np.transpose(b)\n",
    "print(\"Транспонированная матрица b\")\n",
    "print(transpose_b)\n",
    "\n",
    "summa_transpose_ab = transpose_a + transpose_b\n",
    "print(\"Сумма транспонированных матриц\")\n",
    "print(summa_transpose_ab)\n",
    "if np.array_equal(transpose_summa_aib, summa_transpose_ab):\n",
    "    print(\"Сумма и транспозиция коммутируют\")"
   ]
  },
  {
   "cell_type": "markdown",
   "id": "a5298241",
   "metadata": {},
   "source": [
    "# Доказательство того, что для любой квадратичной матрицы, сумма матриц симметрична"
   ]
  },
  {
   "cell_type": "code",
   "execution_count": 48,
   "id": "8a17bfca",
   "metadata": {},
   "outputs": [
    {
     "name": "stdout",
     "output_type": "stream",
     "text": [
      "Сумма транспонированных матриц:\n",
      "[[10 10 10]\n",
      " [10 10 10]\n",
      " [10 10 10]]\n",
      "Сумма матриц a и b\n",
      "[[10 10 10]\n",
      " [10 10 10]\n",
      " [10 10 10]]\n",
      "Транспонированная матрица\n",
      "[[10 10 10]\n",
      " [10 10 10]\n",
      " [10 10 10]]\n",
      "Проверка на эквивалентность суммы матриц с транспонированием матрицы и суммы транспонирования матриц\n",
      "True\n",
      "Проверка на эквивалентность суммы матриц с суммой транспонирования матриц\n",
      "True\n"
     ]
    }
   ],
   "source": [
    "a = np.array([[1, 2, 3],\n",
    "              [4, 5, 6],\n",
    "              [7, 8, 9]])\n",
    "\n",
    "b = np.array([[9, 8, 7],\n",
    "              [6, 5, 4],\n",
    "              [3, 2, 1]])\n",
    "\n",
    "summa = a + b\n",
    "\n",
    "# Транспонируем сумму матриц\n",
    "c = np.transpose(summa)\n",
    "\n",
    "# Транспонируем матрицу A\n",
    "transpose_a = np.transpose(a)\n",
    "\n",
    "# Транспонируем матрицу B\n",
    "transpose_b = np.transpose(b)\n",
    "\n",
    "# Сумма транспонированных матриц\n",
    "sum_transpose = transpose_a + transpose_b\n",
    "print(\"Сумма транспонированных матриц:\")\n",
    "print(sum_transpose)\n",
    "\n",
    "# Выводим сумму матриц и транспонированную матрицу с\n",
    "print(\"Сумма матриц a и b\")\n",
    "print(summa)\n",
    "print(\"Транспонированная матрица\")\n",
    "print(c)\n",
    "\n",
    "# Проверка на симметричность\n",
    "print(\"Проверка на эквивалентность суммы матриц с транспонированием матрицы и суммы транспонирования матриц\")\n",
    "print(np.array_equal(summa, c))\n",
    "print(\"Проверка на эквивалентность суммы матриц с суммой транспонирования матриц\")\n",
    "print(np.array_equal(summa, sum_transpose))"
   ]
  },
  {
   "cell_type": "markdown",
   "id": "ce27ef9c",
   "metadata": {},
   "source": [
    "# Мы определяли тензор `X` размерности (2, 3, 4). Что возвращает функция `len(X)`?"
   ]
  },
  {
   "cell_type": "code",
   "execution_count": 49,
   "id": "cd0c6b39",
   "metadata": {},
   "outputs": [
    {
     "name": "stdout",
     "output_type": "stream",
     "text": [
      "2\n"
     ]
    }
   ],
   "source": [
    "X = np.zeros((2, 3, 4))\n",
    "print(len(X))"
   ]
  },
  {
   "cell_type": "markdown",
   "id": "ac2f9d12",
   "metadata": {},
   "source": [
    "# Для тензора `X` произвольной размерности, всегда ли функция `len(X)` возвращает длину тензора по оси `X`?"
   ]
  },
  {
   "cell_type": "code",
   "execution_count": 51,
   "id": "52bc1d09",
   "metadata": {},
   "outputs": [
    {
     "name": "stdout",
     "output_type": "stream",
     "text": [
      "[[6 3 1]\n",
      " [9 4 5]]\n",
      "Строки\n",
      "2\n",
      "Столбцы\n",
      "3\n",
      "Не всегда\n"
     ]
    }
   ],
   "source": [
    "X = np.array([[6, 3, 1],\n",
    "              [9, 4, 5]])\n",
    "\n",
    "print(X)\n",
    "\n",
    "# Посчитаем число строк\n",
    "print(\"Строки\")\n",
    "print(len(X))\n",
    "\n",
    "# Посчитаем число столбцов\n",
    "print(\"Столбцы\")\n",
    "print(len(X[0]))\n",
    "\n",
    "print(\"Не всегда\")"
   ]
  },
  {
   "cell_type": "markdown",
   "id": "b845995a",
   "metadata": {},
   "source": [
    "# Запустите следующий фрагмент кода `A / A.sum(axis=1)` и проверьте полученный результат"
   ]
  },
  {
   "cell_type": "code",
   "execution_count": 52,
   "id": "9251d62e",
   "metadata": {},
   "outputs": [
    {
     "name": "stdout",
     "output_type": "stream",
     "text": [
      "[[0.375      0.55555556]\n",
      " [1.         0.11111111]]\n"
     ]
    }
   ],
   "source": [
    "A = np.array([[3, 5],\n",
    "              [8, 1]])\n",
    "\n",
    "print(A / A.sum(axis=1))"
   ]
  },
  {
   "cell_type": "markdown",
   "id": "b5276ead",
   "metadata": {},
   "source": [
    "# Рассмотрим тензор размерности (2, 3, 4)"
   ]
  },
  {
   "cell_type": "code",
   "execution_count": 53,
   "id": "23017c1c",
   "metadata": {},
   "outputs": [
    {
     "name": "stdout",
     "output_type": "stream",
     "text": [
      "[[[ 0  1  2  3]\n",
      "  [ 4  5  6  7]\n",
      "  [ 8  9 10 11]]\n",
      "\n",
      " [[12 13 14 15]\n",
      "  [16 17 18 19]\n",
      "  [20 21 22 23]]]\n",
      "Размерности после суммирования:\n",
      "По оси 0 (3, 4)\n",
      "По оси 1 (2, 4)\n",
      "По оси 2 (2, 3)\n"
     ]
    }
   ],
   "source": [
    "# Создадим тензор размерности (2, 3, 4)\n",
    "tensor = np.arange(24).reshape(2, 3, 4)\n",
    "print(tensor)\n",
    "\n",
    "# Суммируем элементы по осям\n",
    "sum_axis0 = np.sum(tensor, axis=0)\n",
    "sum_axis1 = np.sum(tensor, axis=1)\n",
    "sum_axis2 = np.sum(tensor, axis=2)\n",
    "\n",
    "print(\"Размерности после суммирования:\")\n",
    "print(\"По оси 0\", sum_axis0.shape)\n",
    "print(\"По оси 1\", sum_axis1.shape)\n",
    "print(\"По оси 2\", sum_axis2.shape)"
   ]
  },
  {
   "cell_type": "markdown",
   "id": "2e8ea26c",
   "metadata": {},
   "source": [
    "# Передайте тензор с 3 или более осями в функцию `linalg.norm` и наблюдайте за его выводом"
   ]
  },
  {
   "cell_type": "code",
   "execution_count": 54,
   "id": "7601c540",
   "metadata": {},
   "outputs": [
    {
     "name": "stdout",
     "output_type": "stream",
     "text": [
      "Норма тензора\n",
      "18.841443681416774\n"
     ]
    }
   ],
   "source": [
    "# Создадим тензор\n",
    "array_3d = np.array([[[3, 4, 5], [8, 6, 1]], [[9, 3, 5], [7, 2, 6]]])\n",
    "\n",
    "# Вычислим нормы трехмерного тензора\n",
    "norm_3d = np.linalg.norm(array_3d)\n",
    "print(\"Норма тензора\")\n",
    "print(norm_3d)"
   ]
  },
  {
   "cell_type": "markdown",
   "id": "6e828ce6",
   "metadata": {},
   "source": [
    "# Определите 3 матрицы, содержащие случайные переменные, распределенные по нормальному закону распределения"
   ]
  },
  {
   "cell_type": "code",
   "execution_count": 55,
   "id": "20ebbf7b",
   "metadata": {},
   "outputs": [
    {
     "name": "stdout",
     "output_type": "stream",
     "text": [
      "[[ 1512.39906381  -203.13261888  2132.9216946  ...  1933.84752273\n",
      "  -1278.22602771   843.73681715]\n",
      " [  369.41873691  -521.97929788   303.01697563 ...  2642.29425683\n",
      "    153.54688444   153.20433575]\n",
      " [  790.04011468  -286.58520877  -334.79056082 ...    -4.9640751\n",
      "   -317.11215326   319.03837338]\n",
      " ...\n",
      " [    4.21195894  1323.66146249  3925.1217927  ...  -806.1545766\n",
      "   -330.41006245 -1469.48723111]\n",
      " [ -651.14590587 -1754.04380681 -1048.66643076 ...  -869.09828012\n",
      "   -914.49585658 -3137.43328041]\n",
      " [ 2263.33145535   588.4546994    420.03220301 ...   -70.51397129\n",
      "    -50.01965215  1957.57924926]]\n",
      "[[ 1512.39906381  -203.13261888  2132.9216946  ...  1933.84752273\n",
      "  -1278.22602771   843.73681715]\n",
      " [  369.41873691  -521.97929788   303.01697563 ...  2642.29425683\n",
      "    153.54688444   153.20433575]\n",
      " [  790.04011468  -286.58520877  -334.79056082 ...    -4.9640751\n",
      "   -317.11215326   319.03837338]\n",
      " ...\n",
      " [    4.21195894  1323.66146249  3925.1217927  ...  -806.1545766\n",
      "   -330.41006245 -1469.48723111]\n",
      " [ -651.14590587 -1754.04380681 -1048.66643076 ...  -869.09828012\n",
      "   -914.49585658 -3137.43328041]\n",
      " [ 2263.33145535   588.4546994    420.03220301 ...   -70.51397129\n",
      "    -50.01965215  1957.57924926]]\n"
     ]
    }
   ],
   "source": [
    "a = np.random.randn(2**10, 2**16)\n",
    "b = np.random.randn(2**16, 2**5)\n",
    "c = np.random.randn(2**5, 2**14)\n",
    "\n",
    "# Высчитываем (ab)c\n",
    "preresult1 = np.dot(a, b)\n",
    "result1 = np.dot(preresult1, c)\n",
    "print(result1)\n",
    "\n",
    "# Высчитываем a(bc)\n",
    "preresult2 = np.dot(b, c)\n",
    "result2 = np.dot(a, preresult2)\n",
    "print(result2)"
   ]
  },
  {
   "cell_type": "markdown",
   "id": "8b4d4dd4",
   "metadata": {},
   "source": [
    "# Определите 3 матрицы. Сформируем тензор с 3-мя осями путем объединения матриц"
   ]
  },
  {
   "cell_type": "code",
   "execution_count": 56,
   "id": "e5020b5d",
   "metadata": {},
   "outputs": [
    {
     "name": "stdout",
     "output_type": "stream",
     "text": [
      "[[[0.28485208 0.61635503 0.68335344 ... 0.26805694 0.8552734  0.74878412]\n",
      "  [0.364682   0.27497022 0.77256129 ... 0.73839166 0.2843865  0.74024156]\n",
      "  [0.47137606 0.10848164 0.17295812 ... 0.31126764 0.4938937  0.94964961]\n",
      "  ...\n",
      "  [0.3429443  0.61619587 0.92193124 ... 0.70752861 0.10178843 0.76579282]\n",
      "  [0.88576464 0.24237372 0.39216098 ... 0.10086539 0.73654625 0.30446601]\n",
      "  [0.47447433 0.54575945 0.43942941 ... 0.9218635  0.53671466 0.19134819]]\n",
      "\n",
      " [[0.98920191 0.13605424 0.55973732 ... 0.98713473 0.58359377 0.74988133]\n",
      "  [0.06198959 0.11072755 0.39718589 ... 0.62750445 0.787239   0.37589644]\n",
      "  [0.08717473 0.33608596 0.00639246 ... 0.32908561 0.4658421  0.13544846]\n",
      "  ...\n",
      "  [0.72467771 0.80299569 0.68803919 ... 0.59036826 0.43643971 0.00253658]\n",
      "  [0.35297543 0.25747626 0.78756912 ... 0.38241976 0.35510465 0.29636333]\n",
      "  [0.04668677 0.77684943 0.79546115 ... 0.67910282 0.50557338 0.18799352]]\n",
      "\n",
      " [[0.3010397  0.9525727  0.93045558 ... 0.15541569 0.76937855 0.84614465]\n",
      "  [0.07827586 0.69105148 0.42254364 ... 0.0201548  0.10984545 0.02162648]\n",
      "  [0.19566933 0.7231651  0.31673327 ... 0.9418692  0.74769139 0.95003027]\n",
      "  ...\n",
      "  [0.11867587 0.68224555 0.73952325 ... 0.42382597 0.60048318 0.14446104]\n",
      "  [0.54428091 0.52992205 0.16284626 ... 0.98489578 0.57422441 0.32868007]\n",
      "  [0.73726981 0.09559837 0.32420646 ... 0.34911718 0.84100948 0.21890535]]]\n",
      "Размерность тензора: (3, 100, 200)\n",
      "[[0.98920191 0.13605424 0.55973732 ... 0.98713473 0.58359377 0.74988133]\n",
      " [0.06198959 0.11072755 0.39718589 ... 0.62750445 0.787239   0.37589644]\n",
      " [0.08717473 0.33608596 0.00639246 ... 0.32908561 0.4658421  0.13544846]\n",
      " ...\n",
      " [0.72467771 0.80299569 0.68803919 ... 0.59036826 0.43643971 0.00253658]\n",
      " [0.35297543 0.25747626 0.78756912 ... 0.38241976 0.35510465 0.29636333]\n",
      " [0.04668677 0.77684943 0.79546115 ... 0.67910282 0.50557338 0.18799352]]\n",
      "Матрицы b совпадают\n"
     ]
    }
   ],
   "source": [
    "a = np.random.rand(100, 200)\n",
    "b = np.random.rand(100, 200)\n",
    "c = np.random.rand(100, 200)\n",
    "\n",
    "# Создание тензора с тремя осями\n",
    "tensor = np.array([a, b, c])\n",
    "print(tensor)\n",
    "# Размерность сформированного тензора\n",
    "print(\"Размерность тензора:\", tensor.shape)\n",
    "\n",
    "# Восстанавливаем матрицу b\n",
    "b_restored = tensor[1]\n",
    "print(b_restored)\n",
    "if np.array_equal(b, b_restored):\n",
    "  print(\"Матрицы b совпадают\")"
   ]
  },
  {
   "cell_type": "code",
   "execution_count": null,
   "id": "a137d5be",
   "metadata": {},
   "outputs": [],
   "source": []
  }
 ],
 "metadata": {
  "kernelspec": {
   "display_name": "Python 3 (ipykernel)",
   "language": "python",
   "name": "python3"
  },
  "language_info": {
   "codemirror_mode": {
    "name": "ipython",
    "version": 3
   },
   "file_extension": ".py",
   "mimetype": "text/x-python",
   "name": "python",
   "nbconvert_exporter": "python",
   "pygments_lexer": "ipython3",
   "version": "3.9.12"
  }
 },
 "nbformat": 4,
 "nbformat_minor": 5
}
